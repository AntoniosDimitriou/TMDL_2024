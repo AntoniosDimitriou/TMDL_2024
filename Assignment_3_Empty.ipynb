{
  "cells": [
    {
      "cell_type": "markdown",
      "metadata": {
        "id": "view-in-github",
        "colab_type": "text"
      },
      "source": [
        "<a href=\"https://colab.research.google.com/github/AntoniosDimitriou/TMDL_2024/blob/main/Assignment_3_Empty.ipynb\" target=\"_parent\"><img src=\"https://colab.research.google.com/assets/colab-badge.svg\" alt=\"Open In Colab\"/></a>"
      ]
    },
    {
      "cell_type": "markdown",
      "id": "43554d37",
      "metadata": {
        "id": "43554d37"
      },
      "source": [
        "# Turing Machine and Deep Learning 2023\n",
        "\n",
        "## Assignment Unupervised ML\n",
        "\n",
        "This notebook is meant for you to review and reflect on the content of Lecture 3, which was mainly about unsupervised learning problems. As with last week, this notebook should not be too much quantitative work (lines of code) but keep in mind that running this notebook may take a longer time than you may be used to for python programs (*training good models take time!*)\n",
        "\n",
        "### Handing in your Assignment\n",
        "\n",
        "Git is an invaluable resource to researchers and developers, and thus for this course, all course material will be (additionally) shared on GitHub. Though there is a tiny bit of a learning curve, this is worth the effort. To hand in your assignment (applicable to all weeks):\n",
        "\n",
        "1. Create a folder called \"Week 2\" and copy this notebook and any other files or data that may be needed.\n",
        "2. Finish the notebook and commit and push regularly. Your final commit before the deadline will be graded.\n",
        "\n",
        "\n",
        "### Grading\n",
        "\n",
        "Each one of the (sub-)questions below will be graded either 0 (insufficient), 1 (sufficient) or 2 (good). If $N$ is the number of sub-questions, and $p_i$ is your score for sub-question $i$, your total grade $G$ for this assignment is:\n",
        "$$G=\\frac{1}{2 N}\\sum_{i=0}^{N}p_i$$"
      ]
    },
    {
      "cell_type": "code",
      "execution_count": 62,
      "id": "52fbab8b",
      "metadata": {
        "id": "52fbab8b"
      },
      "outputs": [],
      "source": [
        "# load common libraries\n",
        "import numpy as np                 # maths\n",
        "import matplotlib.pyplot as plt    # plotting\n",
        "import pandas as pd                # data manipulation\n",
        "from tqdm import tqdm              # loading bar\n",
        "from time import perf_counter      # timer"
      ]
    },
    {
      "cell_type": "markdown",
      "id": "bf4c3a0a",
      "metadata": {
        "id": "bf4c3a0a"
      },
      "source": [
        "# Q1 Loading and preprocessing data\n",
        "\n",
        "In this repository, you should find a file called `tmdb_5000_movies.csv` which is information from a subset of movies on The Movie Database."
      ]
    },
    {
      "cell_type": "markdown",
      "id": "40715541",
      "metadata": {
        "id": "40715541"
      },
      "source": [
        "### Q.1.1\n",
        "Use pandas to read in the csv file (refer to [read_csv](https://pandas.pydata.org/docs/reference/api/pandas.read_csv.html) if you're unfamiliar)."
      ]
    },
    {
      "cell_type": "code",
      "execution_count": 63,
      "id": "c10a5202",
      "metadata": {
        "colab": {
          "base_uri": "https://localhost:8080/",
          "height": 1000
        },
        "id": "c10a5202",
        "outputId": "2d10207e-76c8-4e24-8869-7b741579ab4d"
      },
      "outputs": [
        {
          "output_type": "execute_result",
          "data": {
            "text/plain": [
              "         budget                                             genres  \\\n",
              "0     237000000  [{\"id\": 28, \"name\": \"Action\"}, {\"id\": 12, \"nam...   \n",
              "1     300000000  [{\"id\": 12, \"name\": \"Adventure\"}, {\"id\": 14, \"...   \n",
              "2     245000000  [{\"id\": 28, \"name\": \"Action\"}, {\"id\": 12, \"nam...   \n",
              "3     250000000  [{\"id\": 28, \"name\": \"Action\"}, {\"id\": 80, \"nam...   \n",
              "4     260000000  [{\"id\": 28, \"name\": \"Action\"}, {\"id\": 12, \"nam...   \n",
              "...         ...                                                ...   \n",
              "4798     220000  [{\"id\": 28, \"name\": \"Action\"}, {\"id\": 80, \"nam...   \n",
              "4799       9000  [{\"id\": 35, \"name\": \"Comedy\"}, {\"id\": 10749, \"...   \n",
              "4800          0  [{\"id\": 35, \"name\": \"Comedy\"}, {\"id\": 18, \"nam...   \n",
              "4801          0                                                 []   \n",
              "4802          0                [{\"id\": 99, \"name\": \"Documentary\"}]   \n",
              "\n",
              "                                               homepage      id  \\\n",
              "0                           http://www.avatarmovie.com/   19995   \n",
              "1          http://disney.go.com/disneypictures/pirates/     285   \n",
              "2           http://www.sonypictures.com/movies/spectre/  206647   \n",
              "3                    http://www.thedarkknightrises.com/   49026   \n",
              "4                  http://movies.disney.com/john-carter   49529   \n",
              "...                                                 ...     ...   \n",
              "4798                                                NaN    9367   \n",
              "4799                                                NaN   72766   \n",
              "4800  http://www.hallmarkchannel.com/signedsealeddel...  231617   \n",
              "4801                        http://shanghaicalling.com/  126186   \n",
              "4802                                                NaN   25975   \n",
              "\n",
              "                                               keywords original_language  \\\n",
              "0     [{\"id\": 1463, \"name\": \"culture clash\"}, {\"id\":...                en   \n",
              "1     [{\"id\": 270, \"name\": \"ocean\"}, {\"id\": 726, \"na...                en   \n",
              "2     [{\"id\": 470, \"name\": \"spy\"}, {\"id\": 818, \"name...                en   \n",
              "3     [{\"id\": 849, \"name\": \"dc comics\"}, {\"id\": 853,...                en   \n",
              "4     [{\"id\": 818, \"name\": \"based on novel\"}, {\"id\":...                en   \n",
              "...                                                 ...               ...   \n",
              "4798  [{\"id\": 5616, \"name\": \"united states\\u2013mexi...                es   \n",
              "4799                                                 []                en   \n",
              "4800  [{\"id\": 248, \"name\": \"date\"}, {\"id\": 699, \"nam...                en   \n",
              "4801                                                 []                en   \n",
              "4802  [{\"id\": 1523, \"name\": \"obsession\"}, {\"id\": 224...                en   \n",
              "\n",
              "                                original_title  \\\n",
              "0                                       Avatar   \n",
              "1     Pirates of the Caribbean: At World's End   \n",
              "2                                      Spectre   \n",
              "3                        The Dark Knight Rises   \n",
              "4                                  John Carter   \n",
              "...                                        ...   \n",
              "4798                               El Mariachi   \n",
              "4799                                 Newlyweds   \n",
              "4800                 Signed, Sealed, Delivered   \n",
              "4801                          Shanghai Calling   \n",
              "4802                         My Date with Drew   \n",
              "\n",
              "                                               overview  popularity  \\\n",
              "0     In the 22nd century, a paraplegic Marine is di...  150.437577   \n",
              "1     Captain Barbossa, long believed to be dead, ha...  139.082615   \n",
              "2     A cryptic message from Bond’s past sends him o...  107.376788   \n",
              "3     Following the death of District Attorney Harve...  112.312950   \n",
              "4     John Carter is a war-weary, former military ca...   43.926995   \n",
              "...                                                 ...         ...   \n",
              "4798  El Mariachi just wants to play his guitar and ...   14.269792   \n",
              "4799  A newlywed couple's honeymoon is upended by th...    0.642552   \n",
              "4800  \"Signed, Sealed, Delivered\" introduces a dedic...    1.444476   \n",
              "4801  When ambitious New York attorney Sam is sent t...    0.857008   \n",
              "4802  Ever since the second grade when he first saw ...    1.929883   \n",
              "\n",
              "                                   production_companies  \\\n",
              "0     [{\"name\": \"Ingenious Film Partners\", \"id\": 289...   \n",
              "1     [{\"name\": \"Walt Disney Pictures\", \"id\": 2}, {\"...   \n",
              "2     [{\"name\": \"Columbia Pictures\", \"id\": 5}, {\"nam...   \n",
              "3     [{\"name\": \"Legendary Pictures\", \"id\": 923}, {\"...   \n",
              "4           [{\"name\": \"Walt Disney Pictures\", \"id\": 2}]   \n",
              "...                                                 ...   \n",
              "4798           [{\"name\": \"Columbia Pictures\", \"id\": 5}]   \n",
              "4799                                                 []   \n",
              "4800  [{\"name\": \"Front Street Pictures\", \"id\": 3958}...   \n",
              "4801                                                 []   \n",
              "4802  [{\"name\": \"rusty bear entertainment\", \"id\": 87...   \n",
              "\n",
              "                                   production_countries release_date  \\\n",
              "0     [{\"iso_3166_1\": \"US\", \"name\": \"United States o...   2009-12-10   \n",
              "1     [{\"iso_3166_1\": \"US\", \"name\": \"United States o...   2007-05-19   \n",
              "2     [{\"iso_3166_1\": \"GB\", \"name\": \"United Kingdom\"...   2015-10-26   \n",
              "3     [{\"iso_3166_1\": \"US\", \"name\": \"United States o...   2012-07-16   \n",
              "4     [{\"iso_3166_1\": \"US\", \"name\": \"United States o...   2012-03-07   \n",
              "...                                                 ...          ...   \n",
              "4798  [{\"iso_3166_1\": \"MX\", \"name\": \"Mexico\"}, {\"iso...   1992-09-04   \n",
              "4799                                                 []   2011-12-26   \n",
              "4800  [{\"iso_3166_1\": \"US\", \"name\": \"United States o...   2013-10-13   \n",
              "4801  [{\"iso_3166_1\": \"US\", \"name\": \"United States o...   2012-05-03   \n",
              "4802  [{\"iso_3166_1\": \"US\", \"name\": \"United States o...   2005-08-05   \n",
              "\n",
              "         revenue  runtime                                   spoken_languages  \\\n",
              "0     2787965087    162.0  [{\"iso_639_1\": \"en\", \"name\": \"English\"}, {\"iso...   \n",
              "1      961000000    169.0           [{\"iso_639_1\": \"en\", \"name\": \"English\"}]   \n",
              "2      880674609    148.0  [{\"iso_639_1\": \"fr\", \"name\": \"Fran\\u00e7ais\"},...   \n",
              "3     1084939099    165.0           [{\"iso_639_1\": \"en\", \"name\": \"English\"}]   \n",
              "4      284139100    132.0           [{\"iso_639_1\": \"en\", \"name\": \"English\"}]   \n",
              "...          ...      ...                                                ...   \n",
              "4798     2040920     81.0      [{\"iso_639_1\": \"es\", \"name\": \"Espa\\u00f1ol\"}]   \n",
              "4799           0     85.0                                                 []   \n",
              "4800           0    120.0           [{\"iso_639_1\": \"en\", \"name\": \"English\"}]   \n",
              "4801           0     98.0           [{\"iso_639_1\": \"en\", \"name\": \"English\"}]   \n",
              "4802           0     90.0           [{\"iso_639_1\": \"en\", \"name\": \"English\"}]   \n",
              "\n",
              "        status                                            tagline  \\\n",
              "0     Released                        Enter the World of Pandora.   \n",
              "1     Released     At the end of the world, the adventure begins.   \n",
              "2     Released                              A Plan No One Escapes   \n",
              "3     Released                                    The Legend Ends   \n",
              "4     Released               Lost in our world, found in another.   \n",
              "...        ...                                                ...   \n",
              "4798  Released  He didn't come looking for trouble, but troubl...   \n",
              "4799  Released  A newlywed couple's honeymoon is upended by th...   \n",
              "4800  Released                                                NaN   \n",
              "4801  Released                           A New Yorker in Shanghai   \n",
              "4802  Released                                                NaN   \n",
              "\n",
              "                                         title  vote_average  vote_count  \n",
              "0                                       Avatar           7.2       11800  \n",
              "1     Pirates of the Caribbean: At World's End           6.9        4500  \n",
              "2                                      Spectre           6.3        4466  \n",
              "3                        The Dark Knight Rises           7.6        9106  \n",
              "4                                  John Carter           6.1        2124  \n",
              "...                                        ...           ...         ...  \n",
              "4798                               El Mariachi           6.6         238  \n",
              "4799                                 Newlyweds           5.9           5  \n",
              "4800                 Signed, Sealed, Delivered           7.0           6  \n",
              "4801                          Shanghai Calling           5.7           7  \n",
              "4802                         My Date with Drew           6.3          16  \n",
              "\n",
              "[4803 rows x 20 columns]"
            ],
            "text/html": [
              "\n",
              "  <div id=\"df-4a30fb48-fb94-41c9-9f46-a2677b702cc5\" class=\"colab-df-container\">\n",
              "    <div>\n",
              "<style scoped>\n",
              "    .dataframe tbody tr th:only-of-type {\n",
              "        vertical-align: middle;\n",
              "    }\n",
              "\n",
              "    .dataframe tbody tr th {\n",
              "        vertical-align: top;\n",
              "    }\n",
              "\n",
              "    .dataframe thead th {\n",
              "        text-align: right;\n",
              "    }\n",
              "</style>\n",
              "<table border=\"1\" class=\"dataframe\">\n",
              "  <thead>\n",
              "    <tr style=\"text-align: right;\">\n",
              "      <th></th>\n",
              "      <th>budget</th>\n",
              "      <th>genres</th>\n",
              "      <th>homepage</th>\n",
              "      <th>id</th>\n",
              "      <th>keywords</th>\n",
              "      <th>original_language</th>\n",
              "      <th>original_title</th>\n",
              "      <th>overview</th>\n",
              "      <th>popularity</th>\n",
              "      <th>production_companies</th>\n",
              "      <th>production_countries</th>\n",
              "      <th>release_date</th>\n",
              "      <th>revenue</th>\n",
              "      <th>runtime</th>\n",
              "      <th>spoken_languages</th>\n",
              "      <th>status</th>\n",
              "      <th>tagline</th>\n",
              "      <th>title</th>\n",
              "      <th>vote_average</th>\n",
              "      <th>vote_count</th>\n",
              "    </tr>\n",
              "  </thead>\n",
              "  <tbody>\n",
              "    <tr>\n",
              "      <th>0</th>\n",
              "      <td>237000000</td>\n",
              "      <td>[{\"id\": 28, \"name\": \"Action\"}, {\"id\": 12, \"nam...</td>\n",
              "      <td>http://www.avatarmovie.com/</td>\n",
              "      <td>19995</td>\n",
              "      <td>[{\"id\": 1463, \"name\": \"culture clash\"}, {\"id\":...</td>\n",
              "      <td>en</td>\n",
              "      <td>Avatar</td>\n",
              "      <td>In the 22nd century, a paraplegic Marine is di...</td>\n",
              "      <td>150.437577</td>\n",
              "      <td>[{\"name\": \"Ingenious Film Partners\", \"id\": 289...</td>\n",
              "      <td>[{\"iso_3166_1\": \"US\", \"name\": \"United States o...</td>\n",
              "      <td>2009-12-10</td>\n",
              "      <td>2787965087</td>\n",
              "      <td>162.0</td>\n",
              "      <td>[{\"iso_639_1\": \"en\", \"name\": \"English\"}, {\"iso...</td>\n",
              "      <td>Released</td>\n",
              "      <td>Enter the World of Pandora.</td>\n",
              "      <td>Avatar</td>\n",
              "      <td>7.2</td>\n",
              "      <td>11800</td>\n",
              "    </tr>\n",
              "    <tr>\n",
              "      <th>1</th>\n",
              "      <td>300000000</td>\n",
              "      <td>[{\"id\": 12, \"name\": \"Adventure\"}, {\"id\": 14, \"...</td>\n",
              "      <td>http://disney.go.com/disneypictures/pirates/</td>\n",
              "      <td>285</td>\n",
              "      <td>[{\"id\": 270, \"name\": \"ocean\"}, {\"id\": 726, \"na...</td>\n",
              "      <td>en</td>\n",
              "      <td>Pirates of the Caribbean: At World's End</td>\n",
              "      <td>Captain Barbossa, long believed to be dead, ha...</td>\n",
              "      <td>139.082615</td>\n",
              "      <td>[{\"name\": \"Walt Disney Pictures\", \"id\": 2}, {\"...</td>\n",
              "      <td>[{\"iso_3166_1\": \"US\", \"name\": \"United States o...</td>\n",
              "      <td>2007-05-19</td>\n",
              "      <td>961000000</td>\n",
              "      <td>169.0</td>\n",
              "      <td>[{\"iso_639_1\": \"en\", \"name\": \"English\"}]</td>\n",
              "      <td>Released</td>\n",
              "      <td>At the end of the world, the adventure begins.</td>\n",
              "      <td>Pirates of the Caribbean: At World's End</td>\n",
              "      <td>6.9</td>\n",
              "      <td>4500</td>\n",
              "    </tr>\n",
              "    <tr>\n",
              "      <th>2</th>\n",
              "      <td>245000000</td>\n",
              "      <td>[{\"id\": 28, \"name\": \"Action\"}, {\"id\": 12, \"nam...</td>\n",
              "      <td>http://www.sonypictures.com/movies/spectre/</td>\n",
              "      <td>206647</td>\n",
              "      <td>[{\"id\": 470, \"name\": \"spy\"}, {\"id\": 818, \"name...</td>\n",
              "      <td>en</td>\n",
              "      <td>Spectre</td>\n",
              "      <td>A cryptic message from Bond’s past sends him o...</td>\n",
              "      <td>107.376788</td>\n",
              "      <td>[{\"name\": \"Columbia Pictures\", \"id\": 5}, {\"nam...</td>\n",
              "      <td>[{\"iso_3166_1\": \"GB\", \"name\": \"United Kingdom\"...</td>\n",
              "      <td>2015-10-26</td>\n",
              "      <td>880674609</td>\n",
              "      <td>148.0</td>\n",
              "      <td>[{\"iso_639_1\": \"fr\", \"name\": \"Fran\\u00e7ais\"},...</td>\n",
              "      <td>Released</td>\n",
              "      <td>A Plan No One Escapes</td>\n",
              "      <td>Spectre</td>\n",
              "      <td>6.3</td>\n",
              "      <td>4466</td>\n",
              "    </tr>\n",
              "    <tr>\n",
              "      <th>3</th>\n",
              "      <td>250000000</td>\n",
              "      <td>[{\"id\": 28, \"name\": \"Action\"}, {\"id\": 80, \"nam...</td>\n",
              "      <td>http://www.thedarkknightrises.com/</td>\n",
              "      <td>49026</td>\n",
              "      <td>[{\"id\": 849, \"name\": \"dc comics\"}, {\"id\": 853,...</td>\n",
              "      <td>en</td>\n",
              "      <td>The Dark Knight Rises</td>\n",
              "      <td>Following the death of District Attorney Harve...</td>\n",
              "      <td>112.312950</td>\n",
              "      <td>[{\"name\": \"Legendary Pictures\", \"id\": 923}, {\"...</td>\n",
              "      <td>[{\"iso_3166_1\": \"US\", \"name\": \"United States o...</td>\n",
              "      <td>2012-07-16</td>\n",
              "      <td>1084939099</td>\n",
              "      <td>165.0</td>\n",
              "      <td>[{\"iso_639_1\": \"en\", \"name\": \"English\"}]</td>\n",
              "      <td>Released</td>\n",
              "      <td>The Legend Ends</td>\n",
              "      <td>The Dark Knight Rises</td>\n",
              "      <td>7.6</td>\n",
              "      <td>9106</td>\n",
              "    </tr>\n",
              "    <tr>\n",
              "      <th>4</th>\n",
              "      <td>260000000</td>\n",
              "      <td>[{\"id\": 28, \"name\": \"Action\"}, {\"id\": 12, \"nam...</td>\n",
              "      <td>http://movies.disney.com/john-carter</td>\n",
              "      <td>49529</td>\n",
              "      <td>[{\"id\": 818, \"name\": \"based on novel\"}, {\"id\":...</td>\n",
              "      <td>en</td>\n",
              "      <td>John Carter</td>\n",
              "      <td>John Carter is a war-weary, former military ca...</td>\n",
              "      <td>43.926995</td>\n",
              "      <td>[{\"name\": \"Walt Disney Pictures\", \"id\": 2}]</td>\n",
              "      <td>[{\"iso_3166_1\": \"US\", \"name\": \"United States o...</td>\n",
              "      <td>2012-03-07</td>\n",
              "      <td>284139100</td>\n",
              "      <td>132.0</td>\n",
              "      <td>[{\"iso_639_1\": \"en\", \"name\": \"English\"}]</td>\n",
              "      <td>Released</td>\n",
              "      <td>Lost in our world, found in another.</td>\n",
              "      <td>John Carter</td>\n",
              "      <td>6.1</td>\n",
              "      <td>2124</td>\n",
              "    </tr>\n",
              "    <tr>\n",
              "      <th>...</th>\n",
              "      <td>...</td>\n",
              "      <td>...</td>\n",
              "      <td>...</td>\n",
              "      <td>...</td>\n",
              "      <td>...</td>\n",
              "      <td>...</td>\n",
              "      <td>...</td>\n",
              "      <td>...</td>\n",
              "      <td>...</td>\n",
              "      <td>...</td>\n",
              "      <td>...</td>\n",
              "      <td>...</td>\n",
              "      <td>...</td>\n",
              "      <td>...</td>\n",
              "      <td>...</td>\n",
              "      <td>...</td>\n",
              "      <td>...</td>\n",
              "      <td>...</td>\n",
              "      <td>...</td>\n",
              "      <td>...</td>\n",
              "    </tr>\n",
              "    <tr>\n",
              "      <th>4798</th>\n",
              "      <td>220000</td>\n",
              "      <td>[{\"id\": 28, \"name\": \"Action\"}, {\"id\": 80, \"nam...</td>\n",
              "      <td>NaN</td>\n",
              "      <td>9367</td>\n",
              "      <td>[{\"id\": 5616, \"name\": \"united states\\u2013mexi...</td>\n",
              "      <td>es</td>\n",
              "      <td>El Mariachi</td>\n",
              "      <td>El Mariachi just wants to play his guitar and ...</td>\n",
              "      <td>14.269792</td>\n",
              "      <td>[{\"name\": \"Columbia Pictures\", \"id\": 5}]</td>\n",
              "      <td>[{\"iso_3166_1\": \"MX\", \"name\": \"Mexico\"}, {\"iso...</td>\n",
              "      <td>1992-09-04</td>\n",
              "      <td>2040920</td>\n",
              "      <td>81.0</td>\n",
              "      <td>[{\"iso_639_1\": \"es\", \"name\": \"Espa\\u00f1ol\"}]</td>\n",
              "      <td>Released</td>\n",
              "      <td>He didn't come looking for trouble, but troubl...</td>\n",
              "      <td>El Mariachi</td>\n",
              "      <td>6.6</td>\n",
              "      <td>238</td>\n",
              "    </tr>\n",
              "    <tr>\n",
              "      <th>4799</th>\n",
              "      <td>9000</td>\n",
              "      <td>[{\"id\": 35, \"name\": \"Comedy\"}, {\"id\": 10749, \"...</td>\n",
              "      <td>NaN</td>\n",
              "      <td>72766</td>\n",
              "      <td>[]</td>\n",
              "      <td>en</td>\n",
              "      <td>Newlyweds</td>\n",
              "      <td>A newlywed couple's honeymoon is upended by th...</td>\n",
              "      <td>0.642552</td>\n",
              "      <td>[]</td>\n",
              "      <td>[]</td>\n",
              "      <td>2011-12-26</td>\n",
              "      <td>0</td>\n",
              "      <td>85.0</td>\n",
              "      <td>[]</td>\n",
              "      <td>Released</td>\n",
              "      <td>A newlywed couple's honeymoon is upended by th...</td>\n",
              "      <td>Newlyweds</td>\n",
              "      <td>5.9</td>\n",
              "      <td>5</td>\n",
              "    </tr>\n",
              "    <tr>\n",
              "      <th>4800</th>\n",
              "      <td>0</td>\n",
              "      <td>[{\"id\": 35, \"name\": \"Comedy\"}, {\"id\": 18, \"nam...</td>\n",
              "      <td>http://www.hallmarkchannel.com/signedsealeddel...</td>\n",
              "      <td>231617</td>\n",
              "      <td>[{\"id\": 248, \"name\": \"date\"}, {\"id\": 699, \"nam...</td>\n",
              "      <td>en</td>\n",
              "      <td>Signed, Sealed, Delivered</td>\n",
              "      <td>\"Signed, Sealed, Delivered\" introduces a dedic...</td>\n",
              "      <td>1.444476</td>\n",
              "      <td>[{\"name\": \"Front Street Pictures\", \"id\": 3958}...</td>\n",
              "      <td>[{\"iso_3166_1\": \"US\", \"name\": \"United States o...</td>\n",
              "      <td>2013-10-13</td>\n",
              "      <td>0</td>\n",
              "      <td>120.0</td>\n",
              "      <td>[{\"iso_639_1\": \"en\", \"name\": \"English\"}]</td>\n",
              "      <td>Released</td>\n",
              "      <td>NaN</td>\n",
              "      <td>Signed, Sealed, Delivered</td>\n",
              "      <td>7.0</td>\n",
              "      <td>6</td>\n",
              "    </tr>\n",
              "    <tr>\n",
              "      <th>4801</th>\n",
              "      <td>0</td>\n",
              "      <td>[]</td>\n",
              "      <td>http://shanghaicalling.com/</td>\n",
              "      <td>126186</td>\n",
              "      <td>[]</td>\n",
              "      <td>en</td>\n",
              "      <td>Shanghai Calling</td>\n",
              "      <td>When ambitious New York attorney Sam is sent t...</td>\n",
              "      <td>0.857008</td>\n",
              "      <td>[]</td>\n",
              "      <td>[{\"iso_3166_1\": \"US\", \"name\": \"United States o...</td>\n",
              "      <td>2012-05-03</td>\n",
              "      <td>0</td>\n",
              "      <td>98.0</td>\n",
              "      <td>[{\"iso_639_1\": \"en\", \"name\": \"English\"}]</td>\n",
              "      <td>Released</td>\n",
              "      <td>A New Yorker in Shanghai</td>\n",
              "      <td>Shanghai Calling</td>\n",
              "      <td>5.7</td>\n",
              "      <td>7</td>\n",
              "    </tr>\n",
              "    <tr>\n",
              "      <th>4802</th>\n",
              "      <td>0</td>\n",
              "      <td>[{\"id\": 99, \"name\": \"Documentary\"}]</td>\n",
              "      <td>NaN</td>\n",
              "      <td>25975</td>\n",
              "      <td>[{\"id\": 1523, \"name\": \"obsession\"}, {\"id\": 224...</td>\n",
              "      <td>en</td>\n",
              "      <td>My Date with Drew</td>\n",
              "      <td>Ever since the second grade when he first saw ...</td>\n",
              "      <td>1.929883</td>\n",
              "      <td>[{\"name\": \"rusty bear entertainment\", \"id\": 87...</td>\n",
              "      <td>[{\"iso_3166_1\": \"US\", \"name\": \"United States o...</td>\n",
              "      <td>2005-08-05</td>\n",
              "      <td>0</td>\n",
              "      <td>90.0</td>\n",
              "      <td>[{\"iso_639_1\": \"en\", \"name\": \"English\"}]</td>\n",
              "      <td>Released</td>\n",
              "      <td>NaN</td>\n",
              "      <td>My Date with Drew</td>\n",
              "      <td>6.3</td>\n",
              "      <td>16</td>\n",
              "    </tr>\n",
              "  </tbody>\n",
              "</table>\n",
              "<p>4803 rows × 20 columns</p>\n",
              "</div>\n",
              "    <div class=\"colab-df-buttons\">\n",
              "\n",
              "  <div class=\"colab-df-container\">\n",
              "    <button class=\"colab-df-convert\" onclick=\"convertToInteractive('df-4a30fb48-fb94-41c9-9f46-a2677b702cc5')\"\n",
              "            title=\"Convert this dataframe to an interactive table.\"\n",
              "            style=\"display:none;\">\n",
              "\n",
              "  <svg xmlns=\"http://www.w3.org/2000/svg\" height=\"24px\" viewBox=\"0 -960 960 960\">\n",
              "    <path d=\"M120-120v-720h720v720H120Zm60-500h600v-160H180v160Zm220 220h160v-160H400v160Zm0 220h160v-160H400v160ZM180-400h160v-160H180v160Zm440 0h160v-160H620v160ZM180-180h160v-160H180v160Zm440 0h160v-160H620v160Z\"/>\n",
              "  </svg>\n",
              "    </button>\n",
              "\n",
              "  <style>\n",
              "    .colab-df-container {\n",
              "      display:flex;\n",
              "      gap: 12px;\n",
              "    }\n",
              "\n",
              "    .colab-df-convert {\n",
              "      background-color: #E8F0FE;\n",
              "      border: none;\n",
              "      border-radius: 50%;\n",
              "      cursor: pointer;\n",
              "      display: none;\n",
              "      fill: #1967D2;\n",
              "      height: 32px;\n",
              "      padding: 0 0 0 0;\n",
              "      width: 32px;\n",
              "    }\n",
              "\n",
              "    .colab-df-convert:hover {\n",
              "      background-color: #E2EBFA;\n",
              "      box-shadow: 0px 1px 2px rgba(60, 64, 67, 0.3), 0px 1px 3px 1px rgba(60, 64, 67, 0.15);\n",
              "      fill: #174EA6;\n",
              "    }\n",
              "\n",
              "    .colab-df-buttons div {\n",
              "      margin-bottom: 4px;\n",
              "    }\n",
              "\n",
              "    [theme=dark] .colab-df-convert {\n",
              "      background-color: #3B4455;\n",
              "      fill: #D2E3FC;\n",
              "    }\n",
              "\n",
              "    [theme=dark] .colab-df-convert:hover {\n",
              "      background-color: #434B5C;\n",
              "      box-shadow: 0px 1px 3px 1px rgba(0, 0, 0, 0.15);\n",
              "      filter: drop-shadow(0px 1px 2px rgba(0, 0, 0, 0.3));\n",
              "      fill: #FFFFFF;\n",
              "    }\n",
              "  </style>\n",
              "\n",
              "    <script>\n",
              "      const buttonEl =\n",
              "        document.querySelector('#df-4a30fb48-fb94-41c9-9f46-a2677b702cc5 button.colab-df-convert');\n",
              "      buttonEl.style.display =\n",
              "        google.colab.kernel.accessAllowed ? 'block' : 'none';\n",
              "\n",
              "      async function convertToInteractive(key) {\n",
              "        const element = document.querySelector('#df-4a30fb48-fb94-41c9-9f46-a2677b702cc5');\n",
              "        const dataTable =\n",
              "          await google.colab.kernel.invokeFunction('convertToInteractive',\n",
              "                                                    [key], {});\n",
              "        if (!dataTable) return;\n",
              "\n",
              "        const docLinkHtml = 'Like what you see? Visit the ' +\n",
              "          '<a target=\"_blank\" href=https://colab.research.google.com/notebooks/data_table.ipynb>data table notebook</a>'\n",
              "          + ' to learn more about interactive tables.';\n",
              "        element.innerHTML = '';\n",
              "        dataTable['output_type'] = 'display_data';\n",
              "        await google.colab.output.renderOutput(dataTable, element);\n",
              "        const docLink = document.createElement('div');\n",
              "        docLink.innerHTML = docLinkHtml;\n",
              "        element.appendChild(docLink);\n",
              "      }\n",
              "    </script>\n",
              "  </div>\n",
              "\n",
              "\n",
              "<div id=\"df-99b3044a-aa94-43b0-a5d8-b32f290b89c9\">\n",
              "  <button class=\"colab-df-quickchart\" onclick=\"quickchart('df-99b3044a-aa94-43b0-a5d8-b32f290b89c9')\"\n",
              "            title=\"Suggest charts\"\n",
              "            style=\"display:none;\">\n",
              "\n",
              "<svg xmlns=\"http://www.w3.org/2000/svg\" height=\"24px\"viewBox=\"0 0 24 24\"\n",
              "     width=\"24px\">\n",
              "    <g>\n",
              "        <path d=\"M19 3H5c-1.1 0-2 .9-2 2v14c0 1.1.9 2 2 2h14c1.1 0 2-.9 2-2V5c0-1.1-.9-2-2-2zM9 17H7v-7h2v7zm4 0h-2V7h2v10zm4 0h-2v-4h2v4z\"/>\n",
              "    </g>\n",
              "</svg>\n",
              "  </button>\n",
              "\n",
              "<style>\n",
              "  .colab-df-quickchart {\n",
              "      --bg-color: #E8F0FE;\n",
              "      --fill-color: #1967D2;\n",
              "      --hover-bg-color: #E2EBFA;\n",
              "      --hover-fill-color: #174EA6;\n",
              "      --disabled-fill-color: #AAA;\n",
              "      --disabled-bg-color: #DDD;\n",
              "  }\n",
              "\n",
              "  [theme=dark] .colab-df-quickchart {\n",
              "      --bg-color: #3B4455;\n",
              "      --fill-color: #D2E3FC;\n",
              "      --hover-bg-color: #434B5C;\n",
              "      --hover-fill-color: #FFFFFF;\n",
              "      --disabled-bg-color: #3B4455;\n",
              "      --disabled-fill-color: #666;\n",
              "  }\n",
              "\n",
              "  .colab-df-quickchart {\n",
              "    background-color: var(--bg-color);\n",
              "    border: none;\n",
              "    border-radius: 50%;\n",
              "    cursor: pointer;\n",
              "    display: none;\n",
              "    fill: var(--fill-color);\n",
              "    height: 32px;\n",
              "    padding: 0;\n",
              "    width: 32px;\n",
              "  }\n",
              "\n",
              "  .colab-df-quickchart:hover {\n",
              "    background-color: var(--hover-bg-color);\n",
              "    box-shadow: 0 1px 2px rgba(60, 64, 67, 0.3), 0 1px 3px 1px rgba(60, 64, 67, 0.15);\n",
              "    fill: var(--button-hover-fill-color);\n",
              "  }\n",
              "\n",
              "  .colab-df-quickchart-complete:disabled,\n",
              "  .colab-df-quickchart-complete:disabled:hover {\n",
              "    background-color: var(--disabled-bg-color);\n",
              "    fill: var(--disabled-fill-color);\n",
              "    box-shadow: none;\n",
              "  }\n",
              "\n",
              "  .colab-df-spinner {\n",
              "    border: 2px solid var(--fill-color);\n",
              "    border-color: transparent;\n",
              "    border-bottom-color: var(--fill-color);\n",
              "    animation:\n",
              "      spin 1s steps(1) infinite;\n",
              "  }\n",
              "\n",
              "  @keyframes spin {\n",
              "    0% {\n",
              "      border-color: transparent;\n",
              "      border-bottom-color: var(--fill-color);\n",
              "      border-left-color: var(--fill-color);\n",
              "    }\n",
              "    20% {\n",
              "      border-color: transparent;\n",
              "      border-left-color: var(--fill-color);\n",
              "      border-top-color: var(--fill-color);\n",
              "    }\n",
              "    30% {\n",
              "      border-color: transparent;\n",
              "      border-left-color: var(--fill-color);\n",
              "      border-top-color: var(--fill-color);\n",
              "      border-right-color: var(--fill-color);\n",
              "    }\n",
              "    40% {\n",
              "      border-color: transparent;\n",
              "      border-right-color: var(--fill-color);\n",
              "      border-top-color: var(--fill-color);\n",
              "    }\n",
              "    60% {\n",
              "      border-color: transparent;\n",
              "      border-right-color: var(--fill-color);\n",
              "    }\n",
              "    80% {\n",
              "      border-color: transparent;\n",
              "      border-right-color: var(--fill-color);\n",
              "      border-bottom-color: var(--fill-color);\n",
              "    }\n",
              "    90% {\n",
              "      border-color: transparent;\n",
              "      border-bottom-color: var(--fill-color);\n",
              "    }\n",
              "  }\n",
              "</style>\n",
              "\n",
              "  <script>\n",
              "    async function quickchart(key) {\n",
              "      const quickchartButtonEl =\n",
              "        document.querySelector('#' + key + ' button');\n",
              "      quickchartButtonEl.disabled = true;  // To prevent multiple clicks.\n",
              "      quickchartButtonEl.classList.add('colab-df-spinner');\n",
              "      try {\n",
              "        const charts = await google.colab.kernel.invokeFunction(\n",
              "            'suggestCharts', [key], {});\n",
              "      } catch (error) {\n",
              "        console.error('Error during call to suggestCharts:', error);\n",
              "      }\n",
              "      quickchartButtonEl.classList.remove('colab-df-spinner');\n",
              "      quickchartButtonEl.classList.add('colab-df-quickchart-complete');\n",
              "    }\n",
              "    (() => {\n",
              "      let quickchartButtonEl =\n",
              "        document.querySelector('#df-99b3044a-aa94-43b0-a5d8-b32f290b89c9 button');\n",
              "      quickchartButtonEl.style.display =\n",
              "        google.colab.kernel.accessAllowed ? 'block' : 'none';\n",
              "    })();\n",
              "  </script>\n",
              "</div>\n",
              "    </div>\n",
              "  </div>\n"
            ],
            "application/vnd.google.colaboratory.intrinsic+json": {
              "type": "dataframe",
              "variable_name": "df",
              "summary": "{\n  \"name\": \"df\",\n  \"rows\": 4803,\n  \"fields\": [\n    {\n      \"column\": \"budget\",\n      \"properties\": {\n        \"dtype\": \"number\",\n        \"std\": 40722391,\n        \"min\": 0,\n        \"max\": 380000000,\n        \"num_unique_values\": 436,\n        \"samples\": [\n          439000,\n          68000000,\n          700000\n        ],\n        \"semantic_type\": \"\",\n        \"description\": \"\"\n      }\n    },\n    {\n      \"column\": \"genres\",\n      \"properties\": {\n        \"dtype\": \"category\",\n        \"num_unique_values\": 1175,\n        \"samples\": [\n          \"[{\\\"id\\\": 14, \\\"name\\\": \\\"Fantasy\\\"}, {\\\"id\\\": 12, \\\"name\\\": \\\"Adventure\\\"}, {\\\"id\\\": 16, \\\"name\\\": \\\"Animation\\\"}]\",\n          \"[{\\\"id\\\": 28, \\\"name\\\": \\\"Action\\\"}, {\\\"id\\\": 35, \\\"name\\\": \\\"Comedy\\\"}, {\\\"id\\\": 80, \\\"name\\\": \\\"Crime\\\"}, {\\\"id\\\": 18, \\\"name\\\": \\\"Drama\\\"}]\",\n          \"[{\\\"id\\\": 12, \\\"name\\\": \\\"Adventure\\\"}, {\\\"id\\\": 16, \\\"name\\\": \\\"Animation\\\"}, {\\\"id\\\": 10751, \\\"name\\\": \\\"Family\\\"}, {\\\"id\\\": 14, \\\"name\\\": \\\"Fantasy\\\"}, {\\\"id\\\": 878, \\\"name\\\": \\\"Science Fiction\\\"}]\"\n        ],\n        \"semantic_type\": \"\",\n        \"description\": \"\"\n      }\n    },\n    {\n      \"column\": \"homepage\",\n      \"properties\": {\n        \"dtype\": \"category\",\n        \"num_unique_values\": 1691,\n        \"samples\": [\n          \"https://www.warnerbros.com/running-scared\",\n          \"http://www.51birchstreet.com/index.php\",\n          \"http://movies2.foxjapan.com/glee/\"\n        ],\n        \"semantic_type\": \"\",\n        \"description\": \"\"\n      }\n    },\n    {\n      \"column\": \"id\",\n      \"properties\": {\n        \"dtype\": \"number\",\n        \"std\": 88694,\n        \"min\": 5,\n        \"max\": 459488,\n        \"num_unique_values\": 4803,\n        \"samples\": [\n          8427,\n          13006,\n          18041\n        ],\n        \"semantic_type\": \"\",\n        \"description\": \"\"\n      }\n    },\n    {\n      \"column\": \"keywords\",\n      \"properties\": {\n        \"dtype\": \"string\",\n        \"num_unique_values\": 4222,\n        \"samples\": [\n          \"[{\\\"id\\\": 782, \\\"name\\\": \\\"assassin\\\"}, {\\\"id\\\": 1872, \\\"name\\\": \\\"loss of father\\\"}, {\\\"id\\\": 2908, \\\"name\\\": \\\"secret society\\\"}, {\\\"id\\\": 3045, \\\"name\\\": \\\"mission of murder\\\"}, {\\\"id\\\": 9748, \\\"name\\\": \\\"revenge\\\"}]\",\n          \"[{\\\"id\\\": 2987, \\\"name\\\": \\\"gang war\\\"}, {\\\"id\\\": 4942, \\\"name\\\": \\\"victim of murder\\\"}, {\\\"id\\\": 5332, \\\"name\\\": \\\"greed\\\"}, {\\\"id\\\": 6062, \\\"name\\\": \\\"hostility\\\"}, {\\\"id\\\": 156212, \\\"name\\\": \\\"spaghetti western\\\"}]\",\n          \"[{\\\"id\\\": 703, \\\"name\\\": \\\"detective\\\"}, {\\\"id\\\": 1299, \\\"name\\\": \\\"monster\\\"}, {\\\"id\\\": 6101, \\\"name\\\": \\\"engine\\\"}, {\\\"id\\\": 10988, \\\"name\\\": \\\"based on tv series\\\"}, {\\\"id\\\": 15162, \\\"name\\\": \\\"dog\\\"}]\"\n        ],\n        \"semantic_type\": \"\",\n        \"description\": \"\"\n      }\n    },\n    {\n      \"column\": \"original_language\",\n      \"properties\": {\n        \"dtype\": \"category\",\n        \"num_unique_values\": 37,\n        \"samples\": [\n          \"xx\",\n          \"ta\",\n          \"es\"\n        ],\n        \"semantic_type\": \"\",\n        \"description\": \"\"\n      }\n    },\n    {\n      \"column\": \"original_title\",\n      \"properties\": {\n        \"dtype\": \"string\",\n        \"num_unique_values\": 4801,\n        \"samples\": [\n          \"I Spy\",\n          \"Love Letters\",\n          \"Sleepover\"\n        ],\n        \"semantic_type\": \"\",\n        \"description\": \"\"\n      }\n    },\n    {\n      \"column\": \"overview\",\n      \"properties\": {\n        \"dtype\": \"string\",\n        \"num_unique_values\": 4800,\n        \"samples\": [\n          \"When the Switchblade, the most sophisticated prototype stealth fighter created yet, is stolen from the U.S. government, one of the United States' top spies, Alex Scott, is called to action. What he doesn't expect is to get teamed up with a cocky civilian, World Class Boxing Champion Kelly Robinson, on a dangerous top secret espionage mission. Their assignment: using equal parts skill and humor, catch Arnold Gundars, one of the world's most successful arms dealers.\",\n          \"When \\\"street smart\\\" rapper Christopher \\\"C-Note\\\" Hawkins (Big Boi) applies for a membership to all-white Carolina Pines Country Club, the establishment's proprietors are hardly ready to oblige him.\",\n          \"As their first year of high school looms ahead, best friends Julie, Hannah, Yancy and Farrah have one last summer sleepover. Little do they know they're about to embark on the adventure of a lifetime. Desperate to shed their nerdy status, they take part in a night-long scavenger hunt that pits them against their popular archrivals. Everything under the sun goes on -- from taking Yancy's father's car to sneaking into nightclubs!\"\n        ],\n        \"semantic_type\": \"\",\n        \"description\": \"\"\n      }\n    },\n    {\n      \"column\": \"popularity\",\n      \"properties\": {\n        \"dtype\": \"number\",\n        \"std\": 31.816649749537774,\n        \"min\": 0.0,\n        \"max\": 875.581305,\n        \"num_unique_values\": 4802,\n        \"samples\": [\n          13.267631,\n          0.010909,\n          5.842299\n        ],\n        \"semantic_type\": \"\",\n        \"description\": \"\"\n      }\n    },\n    {\n      \"column\": \"production_companies\",\n      \"properties\": {\n        \"dtype\": \"string\",\n        \"num_unique_values\": 3697,\n        \"samples\": [\n          \"[{\\\"name\\\": \\\"Paramount Pictures\\\", \\\"id\\\": 4}, {\\\"name\\\": \\\"Cherry Alley Productions\\\", \\\"id\\\": 2232}]\",\n          \"[{\\\"name\\\": \\\"Twentieth Century Fox Film Corporation\\\", \\\"id\\\": 306}, {\\\"name\\\": \\\"Dune Entertainment\\\", \\\"id\\\": 444}, {\\\"name\\\": \\\"Regency Enterprises\\\", \\\"id\\\": 508}, {\\\"name\\\": \\\"Guy Walks into a Bar Productions\\\", \\\"id\\\": 2645}, {\\\"name\\\": \\\"Deep River Productions\\\", \\\"id\\\": 2646}, {\\\"name\\\": \\\"Friendly Films (II)\\\", \\\"id\\\": 81136}]\",\n          \"[{\\\"name\\\": \\\"Twentieth Century Fox Film Corporation\\\", \\\"id\\\": 306}]\"\n        ],\n        \"semantic_type\": \"\",\n        \"description\": \"\"\n      }\n    },\n    {\n      \"column\": \"production_countries\",\n      \"properties\": {\n        \"dtype\": \"category\",\n        \"num_unique_values\": 469,\n        \"samples\": [\n          \"[{\\\"iso_3166_1\\\": \\\"ES\\\", \\\"name\\\": \\\"Spain\\\"}, {\\\"iso_3166_1\\\": \\\"GB\\\", \\\"name\\\": \\\"United Kingdom\\\"}, {\\\"iso_3166_1\\\": \\\"US\\\", \\\"name\\\": \\\"United States of America\\\"}, {\\\"iso_3166_1\\\": \\\"FR\\\", \\\"name\\\": \\\"France\\\"}]\",\n          \"[{\\\"iso_3166_1\\\": \\\"US\\\", \\\"name\\\": \\\"United States of America\\\"}, {\\\"iso_3166_1\\\": \\\"CA\\\", \\\"name\\\": \\\"Canada\\\"}, {\\\"iso_3166_1\\\": \\\"DE\\\", \\\"name\\\": \\\"Germany\\\"}]\",\n          \"[{\\\"iso_3166_1\\\": \\\"DE\\\", \\\"name\\\": \\\"Germany\\\"}, {\\\"iso_3166_1\\\": \\\"ES\\\", \\\"name\\\": \\\"Spain\\\"}, {\\\"iso_3166_1\\\": \\\"GB\\\", \\\"name\\\": \\\"United Kingdom\\\"}, {\\\"iso_3166_1\\\": \\\"US\\\", \\\"name\\\": \\\"United States of America\\\"}]\"\n        ],\n        \"semantic_type\": \"\",\n        \"description\": \"\"\n      }\n    },\n    {\n      \"column\": \"release_date\",\n      \"properties\": {\n        \"dtype\": \"object\",\n        \"num_unique_values\": 3280,\n        \"samples\": [\n          \"1966-10-16\",\n          \"1987-07-31\",\n          \"1993-09-23\"\n        ],\n        \"semantic_type\": \"\",\n        \"description\": \"\"\n      }\n    },\n    {\n      \"column\": \"revenue\",\n      \"properties\": {\n        \"dtype\": \"number\",\n        \"std\": 162857100,\n        \"min\": 0,\n        \"max\": 2787965087,\n        \"num_unique_values\": 3297,\n        \"samples\": [\n          11833696,\n          10462500,\n          17807569\n        ],\n        \"semantic_type\": \"\",\n        \"description\": \"\"\n      }\n    },\n    {\n      \"column\": \"runtime\",\n      \"properties\": {\n        \"dtype\": \"number\",\n        \"std\": 22.611934588844232,\n        \"min\": 0.0,\n        \"max\": 338.0,\n        \"num_unique_values\": 156,\n        \"samples\": [\n          74.0,\n          85.0,\n          170.0\n        ],\n        \"semantic_type\": \"\",\n        \"description\": \"\"\n      }\n    },\n    {\n      \"column\": \"spoken_languages\",\n      \"properties\": {\n        \"dtype\": \"category\",\n        \"num_unique_values\": 544,\n        \"samples\": [\n          \"[{\\\"iso_639_1\\\": \\\"es\\\", \\\"name\\\": \\\"Espa\\\\u00f1ol\\\"}, {\\\"iso_639_1\\\": \\\"en\\\", \\\"name\\\": \\\"English\\\"}, {\\\"iso_639_1\\\": \\\"fr\\\", \\\"name\\\": \\\"Fran\\\\u00e7ais\\\"}, {\\\"iso_639_1\\\": \\\"hu\\\", \\\"name\\\": \\\"Magyar\\\"}]\",\n          \"[{\\\"iso_639_1\\\": \\\"en\\\", \\\"name\\\": \\\"English\\\"}, {\\\"iso_639_1\\\": \\\"it\\\", \\\"name\\\": \\\"Italiano\\\"}, {\\\"iso_639_1\\\": \\\"pt\\\", \\\"name\\\": \\\"Portugu\\\\u00eas\\\"}]\",\n          \"[{\\\"iso_639_1\\\": \\\"de\\\", \\\"name\\\": \\\"Deutsch\\\"}, {\\\"iso_639_1\\\": \\\"it\\\", \\\"name\\\": \\\"Italiano\\\"}, {\\\"iso_639_1\\\": \\\"la\\\", \\\"name\\\": \\\"Latin\\\"}, {\\\"iso_639_1\\\": \\\"pl\\\", \\\"name\\\": \\\"Polski\\\"}]\"\n        ],\n        \"semantic_type\": \"\",\n        \"description\": \"\"\n      }\n    },\n    {\n      \"column\": \"status\",\n      \"properties\": {\n        \"dtype\": \"category\",\n        \"num_unique_values\": 3,\n        \"samples\": [\n          \"Released\",\n          \"Post Production\",\n          \"Rumored\"\n        ],\n        \"semantic_type\": \"\",\n        \"description\": \"\"\n      }\n    },\n    {\n      \"column\": \"tagline\",\n      \"properties\": {\n        \"dtype\": \"string\",\n        \"num_unique_values\": 3944,\n        \"samples\": [\n          \"When you're 17, every day is war.\",\n          \"An Unspeakable Horror. A Creative Genius. Captured For Eternity.\",\n          \"May the schwartz be with you\"\n        ],\n        \"semantic_type\": \"\",\n        \"description\": \"\"\n      }\n    },\n    {\n      \"column\": \"title\",\n      \"properties\": {\n        \"dtype\": \"string\",\n        \"num_unique_values\": 4800,\n        \"samples\": [\n          \"I Spy\",\n          \"Who's Your Caddy?\",\n          \"Sleepover\"\n        ],\n        \"semantic_type\": \"\",\n        \"description\": \"\"\n      }\n    },\n    {\n      \"column\": \"vote_average\",\n      \"properties\": {\n        \"dtype\": \"number\",\n        \"std\": 1.1946121628478923,\n        \"min\": 0.0,\n        \"max\": 10.0,\n        \"num_unique_values\": 71,\n        \"samples\": [\n          5.1,\n          7.2,\n          4.0\n        ],\n        \"semantic_type\": \"\",\n        \"description\": \"\"\n      }\n    },\n    {\n      \"column\": \"vote_count\",\n      \"properties\": {\n        \"dtype\": \"number\",\n        \"std\": 1234,\n        \"min\": 0,\n        \"max\": 13752,\n        \"num_unique_values\": 1609,\n        \"samples\": [\n          7604,\n          3428,\n          225\n        ],\n        \"semantic_type\": \"\",\n        \"description\": \"\"\n      }\n    }\n  ]\n}"
            }
          },
          "metadata": {},
          "execution_count": 63
        }
      ],
      "source": [
        "df = pd.read_csv('movies.csv')\n",
        "df"
      ]
    },
    {
      "cell_type": "markdown",
      "id": "1915f1f7",
      "metadata": {
        "id": "1915f1f7"
      },
      "source": [
        "View information about the dataset including datatypes and null values"
      ]
    },
    {
      "cell_type": "code",
      "execution_count": 64,
      "id": "c173d066",
      "metadata": {
        "colab": {
          "base_uri": "https://localhost:8080/"
        },
        "id": "c173d066",
        "outputId": "9e5c1da9-bb76-4427-c98a-ab248deac525"
      },
      "outputs": [
        {
          "output_type": "stream",
          "name": "stdout",
          "text": [
            "<class 'pandas.core.frame.DataFrame'>\n",
            "RangeIndex: 4803 entries, 0 to 4802\n",
            "Data columns (total 20 columns):\n",
            " #   Column                Non-Null Count  Dtype  \n",
            "---  ------                --------------  -----  \n",
            " 0   budget                4803 non-null   int64  \n",
            " 1   genres                4803 non-null   object \n",
            " 2   homepage              1712 non-null   object \n",
            " 3   id                    4803 non-null   int64  \n",
            " 4   keywords              4803 non-null   object \n",
            " 5   original_language     4803 non-null   object \n",
            " 6   original_title        4803 non-null   object \n",
            " 7   overview              4800 non-null   object \n",
            " 8   popularity            4803 non-null   float64\n",
            " 9   production_companies  4803 non-null   object \n",
            " 10  production_countries  4803 non-null   object \n",
            " 11  release_date          4802 non-null   object \n",
            " 12  revenue               4803 non-null   int64  \n",
            " 13  runtime               4801 non-null   float64\n",
            " 14  spoken_languages      4803 non-null   object \n",
            " 15  status                4803 non-null   object \n",
            " 16  tagline               3959 non-null   object \n",
            " 17  title                 4803 non-null   object \n",
            " 18  vote_average          4803 non-null   float64\n",
            " 19  vote_count            4803 non-null   int64  \n",
            "dtypes: float64(3), int64(4), object(13)\n",
            "memory usage: 750.6+ KB\n"
          ]
        }
      ],
      "source": [
        "df.info()"
      ]
    },
    {
      "cell_type": "markdown",
      "id": "4e64a24f",
      "metadata": {
        "id": "4e64a24f"
      },
      "source": [
        "**Q.1.1.2** What columns have null values above? How would you be able to estimate the missing values?"
      ]
    },
    {
      "cell_type": "markdown",
      "id": "2660fe51",
      "metadata": {
        "id": "2660fe51"
      },
      "source": [
        "The following columns have null values: homepage, overview, release_date, runtime, tagline. We could substitute the missing values with the means of their category."
      ]
    },
    {
      "cell_type": "markdown",
      "id": "83863820",
      "metadata": {
        "id": "83863820"
      },
      "source": [
        "### Q1.2\n",
        "For this notebook, we're only interested in a few columns, specifically title, overview and genres. Set df to only contain those columns."
      ]
    },
    {
      "cell_type": "code",
      "execution_count": 65,
      "id": "4e3f0439",
      "metadata": {
        "id": "4e3f0439",
        "colab": {
          "base_uri": "https://localhost:8080/"
        },
        "outputId": "031616cb-1dcf-43fd-a646-e2ef8bed4e63"
      },
      "outputs": [
        {
          "output_type": "stream",
          "name": "stdout",
          "text": [
            "<class 'pandas.core.frame.DataFrame'>\n",
            "RangeIndex: 4803 entries, 0 to 4802\n",
            "Data columns (total 3 columns):\n",
            " #   Column          Non-Null Count  Dtype \n",
            "---  ------          --------------  ----- \n",
            " 0   original_title  4803 non-null   object\n",
            " 1   overview        4800 non-null   object\n",
            " 2   genres          4803 non-null   object\n",
            "dtypes: object(3)\n",
            "memory usage: 112.7+ KB\n"
          ]
        }
      ],
      "source": [
        "df = df[['original_title', 'overview', 'genres']]\n",
        "df.info() # print out df info to verify"
      ]
    },
    {
      "cell_type": "markdown",
      "id": "b596e86b",
      "metadata": {
        "id": "b596e86b"
      },
      "source": [
        "### Q1.3\n",
        "We see that some movies do not have an overview. Drop them from the table and reset the index (set `drop=True`)."
      ]
    },
    {
      "cell_type": "code",
      "execution_count": 66,
      "id": "a06e4f6a",
      "metadata": {
        "id": "a06e4f6a"
      },
      "outputs": [],
      "source": [
        "df = df.dropna(subset=['overview']) # drop na values\n",
        "df = df.reset_index(drop = True) # reset index"
      ]
    },
    {
      "cell_type": "markdown",
      "id": "759df3a2",
      "metadata": {
        "id": "759df3a2"
      },
      "source": [
        "# Q2 One-hot encodings\n",
        "The following code processes the genres (which you see above are list of dictionaries) and encodes them into one-hot labels.\n",
        "\n",
        "Remember, since we cannot do maths on text strings, we must change these words to numbers. Here, we create one-hot encodings for the genres. Assume we have three genres $[G_1, G_2, G_3]$. If a movie $M_1$ is tagged with genre $G_1$, the encoding is $[1,0,0]$. If another movie $M_2$ is tagged with $G2$, the encoding becomes $[0,1,0]$. Other encodings are possible as well, but one-hot encoding quite common and useful for many other tasks. In this case, if a movie is tagged with more than one genre, we'll just take a random one and encode that into a one-hot label.\n",
        "\n",
        "### Q2.1 Processing genres\n",
        "\n",
        "Finish the following code that processes genres into one-hot encodings."
      ]
    },
    {
      "cell_type": "code",
      "execution_count": 67,
      "id": "dba05feb",
      "metadata": {
        "colab": {
          "base_uri": "https://localhost:8080/"
        },
        "id": "dba05feb",
        "outputId": "042f419a-3505-42dd-9750-5b2ba7f9d941"
      },
      "outputs": [
        {
          "output_type": "stream",
          "name": "stderr",
          "text": [
            "100%|██████████| 4800/4800 [00:00<00:00, 18335.14it/s]\n"
          ]
        }
      ],
      "source": [
        "np.random.seed(0)\n",
        "\n",
        "def process_genre_string(gs):\n",
        "    \"\"\" Processes genres into a single item from a list\"\"\"\n",
        "    gs = eval(gs)\n",
        "    gs = [x['name'] for x in gs]\n",
        "    genre = \"Unknown\"\n",
        "    if gs:\n",
        "        genre = np.random.choice(gs) # choose random entry\n",
        "    return genre\n",
        "\n",
        "# TODO: Fill in\n",
        "def encode_labels(label, unique_labels):\n",
        "    \"\"\" Encodes text labels into a one-hot encoded list\n",
        "        with possibly more than one one-hot per list.\n",
        "        :param label: the label you want to one-hot encode\n",
        "        :unique_labels: the vocabulary\n",
        "    \"\"\"\n",
        "    out = np.zeros(len(unique_labels))\n",
        "    if label in unique_labels:\n",
        "      index = unique_labels.index(label)\n",
        "      out[index] = 1\n",
        "    return out\n",
        "\n",
        "# save genres\n",
        "processed_genres = []\n",
        "for index, row in df.iterrows():\n",
        "    processed_genres.append(process_genre_string(row['genres']))\n",
        "\n",
        "# sort and remove duplicates to get vocabulary\n",
        "unique_genres = sorted(list(set(processed_genres)))\n",
        "\n",
        "# add to dataframe as new column\n",
        "df[\"proc_genres\"] = processed_genres\n",
        "\n",
        "# one-hot encode genres\n",
        "encoded_labels = []\n",
        "for index, row in tqdm(df.iterrows(), total=len(df)):\n",
        "    encoded_labels.append(encode_labels(row['proc_genres'], unique_genres))\n",
        "\n",
        "df[\"one_hot_genres\"] = encoded_labels"
      ]
    },
    {
      "cell_type": "markdown",
      "id": "d17501a9",
      "metadata": {
        "id": "d17501a9"
      },
      "source": [
        "Verify that one-hot encodings are indeed as expected"
      ]
    },
    {
      "cell_type": "code",
      "execution_count": 68,
      "id": "3b64854b",
      "metadata": {
        "colab": {
          "base_uri": "https://localhost:8080/"
        },
        "id": "3b64854b",
        "outputId": "0ac12025-700c-4ca3-9cca-ae8fb764705c"
      },
      "outputs": [
        {
          "output_type": "execute_result",
          "data": {
            "text/plain": [
              "array([1., 0., 0., 0., 0., 0., 0., 0., 0., 0., 0., 0., 0., 0., 0., 0., 0.,\n",
              "       0., 0., 0., 0.])"
            ]
          },
          "metadata": {},
          "execution_count": 68
        }
      ],
      "source": [
        "df[\"one_hot_genres\"][0]"
      ]
    },
    {
      "cell_type": "markdown",
      "id": "b0a83ece",
      "metadata": {
        "id": "b0a83ece"
      },
      "source": [
        "### Q2.2 Processing Overviews\n",
        "Next, we process the overviews. First, we remove all punctuation for the sake of simplicity and change each overview to use only lowercase. Then we need to see how long the overviews are in terms of numbers of words. We can do this with a histogram.\n",
        "\n",
        "**Q2.2.1** Finish the following code"
      ]
    },
    {
      "cell_type": "code",
      "execution_count": 69,
      "id": "bfd51c53",
      "metadata": {
        "colab": {
          "base_uri": "https://localhost:8080/",
          "height": 430
        },
        "id": "bfd51c53",
        "outputId": "33df4eec-db83-4239-b04d-ce6118e14fd0"
      },
      "outputs": [
        {
          "output_type": "display_data",
          "data": {
            "text/plain": [
              "<Figure size 640x480 with 1 Axes>"
            ],
            "image/png": "[encoded data removed]"
          },
          "metadata": {}
        }
      ],
      "source": [
        "import re\n",
        "def remove_punctuation(text):\n",
        "    \"\"\" Only retains letters, numbers, underscores and whitespace \"\"\"\n",
        "    pattern = r'[^\\w\\s]'\n",
        "    return re.sub(pattern, '', text)\n",
        "\n",
        "processed_overviews = []\n",
        "\n",
        "# loop over df, remove punctuation, make words lowercase and add it to a new column\n",
        "for overview in df['overview']:\n",
        "    processed_overview = remove_punctuation(overview.lower())\n",
        "    processed_overviews.append(processed_overview)\n",
        "df[\"pr_overview\"] = processed_overviews\n",
        "\n",
        "# get the word lengths of each overview and store it in a list\n",
        "overview_lens = [len(overview.split()) for overview in df[\"pr_overview\"]]\n",
        "\n",
        "# for the sake of simplicity, add these values as a column to the df\n",
        "df[\"overview_len\"] = overview_lens\n",
        "plt.hist(df[\"overview_len\"])\n",
        "plt.show()"
      ]
    },
    {
      "cell_type": "markdown",
      "id": "58138594",
      "metadata": {
        "id": "58138594"
      },
      "source": [
        "**Q2.2.2** What is the shortest overview? What is the longest? In the next step, we need to decide on a standard length of all overviews -- this means dropping overviews less than some value, and truncating longer ones. What length would you choose to minimize the number of movies dropped and maximize the information (words) stored in the overviews?"
      ]
    },
    {
      "cell_type": "markdown",
      "id": "3b87f1af",
      "metadata": {
        "id": "3b87f1af"
      },
      "source": [
        "The shortest overview is zero, while the longest is 175. I would choose a lenght between 25 and 75 (a good estimate is 50), as before and after those lengths we see a steep drop in the frequency with which we see the other lengths."
      ]
    },
    {
      "cell_type": "markdown",
      "id": "54e6cb90",
      "metadata": {
        "id": "54e6cb90"
      },
      "source": [
        "### Q2.2.3\n",
        "Let's choose overviews of length 15 words. What this means is we need to discard movies that have overviews less than 15 (there are other ways of dealing with it, but this should be fine for now) and truncate the higher ones to the first 15 words."
      ]
    },
    {
      "cell_type": "code",
      "execution_count": 70,
      "id": "70854211",
      "metadata": {
        "colab": {
          "base_uri": "https://localhost:8080/"
        },
        "id": "70854211",
        "outputId": "fad4d857-3f76-4a44-911f-5cac04ac495d"
      },
      "outputs": [
        {
          "output_type": "stream",
          "name": "stdout",
          "text": [
            "                                original_title  \\\n",
            "0                                       Avatar   \n",
            "1     Pirates of the Caribbean: At World's End   \n",
            "2                                      Spectre   \n",
            "3                        The Dark Knight Rises   \n",
            "4                                  John Carter   \n",
            "...                                        ...   \n",
            "4794                                    Cavite   \n",
            "4795                               El Mariachi   \n",
            "4797                 Signed, Sealed, Delivered   \n",
            "4798                          Shanghai Calling   \n",
            "4799                         My Date with Drew   \n",
            "\n",
            "                                               overview  \\\n",
            "0     In the 22nd century, a paraplegic Marine is di...   \n",
            "1     Captain Barbossa, long believed to be dead, ha...   \n",
            "2     A cryptic message from Bond’s past sends him o...   \n",
            "3     Following the death of District Attorney Harve...   \n",
            "4     John Carter is a war-weary, former military ca...   \n",
            "...                                                 ...   \n",
            "4794  Adam, a security guard, travels from Californi...   \n",
            "4795  El Mariachi just wants to play his guitar and ...   \n",
            "4797  \"Signed, Sealed, Delivered\" introduces a dedic...   \n",
            "4798  When ambitious New York attorney Sam is sent t...   \n",
            "4799  Ever since the second grade when he first saw ...   \n",
            "\n",
            "                                                 genres  proc_genres  \\\n",
            "0     [{\"id\": 28, \"name\": \"Action\"}, {\"id\": 12, \"nam...       Action   \n",
            "1     [{\"id\": 12, \"name\": \"Adventure\"}, {\"id\": 14, \"...      Fantasy   \n",
            "2     [{\"id\": 28, \"name\": \"Action\"}, {\"id\": 12, \"nam...       Action   \n",
            "3     [{\"id\": 28, \"name\": \"Action\"}, {\"id\": 80, \"nam...     Thriller   \n",
            "4     [{\"id\": 28, \"name\": \"Action\"}, {\"id\": 12, \"nam...    Adventure   \n",
            "...                                                 ...          ...   \n",
            "4794  [{\"id\": 10769, \"name\": \"Foreign\"}, {\"id\": 53, ...     Thriller   \n",
            "4795  [{\"id\": 28, \"name\": \"Action\"}, {\"id\": 80, \"nam...        Crime   \n",
            "4797  [{\"id\": 35, \"name\": \"Comedy\"}, {\"id\": 18, \"nam...     TV Movie   \n",
            "4798                                                 []      Unknown   \n",
            "4799                [{\"id\": 99, \"name\": \"Documentary\"}]  Documentary   \n",
            "\n",
            "                                         one_hot_genres  \\\n",
            "0     [1.0, 0.0, 0.0, 0.0, 0.0, 0.0, 0.0, 0.0, 0.0, ...   \n",
            "1     [0.0, 0.0, 0.0, 0.0, 0.0, 0.0, 0.0, 0.0, 1.0, ...   \n",
            "2     [1.0, 0.0, 0.0, 0.0, 0.0, 0.0, 0.0, 0.0, 0.0, ...   \n",
            "3     [0.0, 0.0, 0.0, 0.0, 0.0, 0.0, 0.0, 0.0, 0.0, ...   \n",
            "4     [0.0, 1.0, 0.0, 0.0, 0.0, 0.0, 0.0, 0.0, 0.0, ...   \n",
            "...                                                 ...   \n",
            "4794  [0.0, 0.0, 0.0, 0.0, 0.0, 0.0, 0.0, 0.0, 0.0, ...   \n",
            "4795  [0.0, 0.0, 0.0, 0.0, 1.0, 0.0, 0.0, 0.0, 0.0, ...   \n",
            "4797  [0.0, 0.0, 0.0, 0.0, 0.0, 0.0, 0.0, 0.0, 0.0, ...   \n",
            "4798  [0.0, 0.0, 0.0, 0.0, 0.0, 0.0, 0.0, 0.0, 0.0, ...   \n",
            "4799  [0.0, 0.0, 0.0, 0.0, 0.0, 1.0, 0.0, 0.0, 0.0, ...   \n",
            "\n",
            "                                            pr_overview  overview_len  \n",
            "0     in the 22nd century a paraplegic marine is dis...            28  \n",
            "1     captain barbossa long believed to be dead has ...            34  \n",
            "2     a cryptic message from bonds past sends him on...            41  \n",
            "3     following the death of district attorney harve...            65  \n",
            "4     john carter is a warweary former military capt...            55  \n",
            "...                                                 ...           ...  \n",
            "4794  adam a security guard travels from california ...           115  \n",
            "4795  el mariachi just wants to play his guitar and ...            62  \n",
            "4797  signed sealed delivered introduces a dedicated...            73  \n",
            "4798  when ambitious new york attorney sam is sent t...            65  \n",
            "4799  ever since the second grade when he first saw ...            62  \n",
            "\n",
            "[4707 rows x 7 columns]\n"
          ]
        },
        {
          "output_type": "stream",
          "name": "stderr",
          "text": [
            "<ipython-input-70-043e8ccb1e4d>:7: SettingWithCopyWarning: \n",
            "A value is trying to be set on a copy of a slice from a DataFrame.\n",
            "Try using .loc[row_indexer,col_indexer] = value instead\n",
            "\n",
            "See the caveats in the documentation: https://pandas.pydata.org/pandas-docs/stable/user_guide/indexing.html#returning-a-view-versus-a-copy\n",
            "  df[\"pr_overview\"] = df[\"pr_overview\"].apply(lambda x: ' '.join(x.split()[:token_len]))\n"
          ]
        }
      ],
      "source": [
        "token_len = 15 # number of words\n",
        "# only select rows where overview len is more than or equal to token_len\n",
        "df = df[df[\"overview_len\"] >= token_len]\n",
        "\n",
        "# split each proc_overview into a list of words, select the first token_len words,\n",
        "# and add the list of words back into df[\"proc_overview\"]\n",
        "df[\"pr_overview\"] = df[\"pr_overview\"].apply(lambda x: ' '.join(x.split()[:token_len]))\n",
        "\n",
        "# print to verify\n",
        "print(df)"
      ]
    },
    {
      "cell_type": "markdown",
      "id": "26e092dd",
      "metadata": {
        "id": "26e092dd"
      },
      "source": [
        "### Q2.2.3 Finding the vocabulary length\n",
        "\n",
        "In order to one-hot encode words, we need to find how many words there are in total, just like in the case of genres. Get all the words, remove duplicates, and sort. Find and print the length of your vocabulary."
      ]
    },
    {
      "cell_type": "code",
      "execution_count": 71,
      "id": "a71a750b",
      "metadata": {
        "colab": {
          "base_uri": "https://localhost:8080/"
        },
        "id": "a71a750b",
        "outputId": "ec9b569b-714d-4a20-f0ad-c6d57e218856"
      },
      "outputs": [
        {
          "output_type": "stream",
          "name": "stdout",
          "text": [
            "12493\n"
          ]
        }
      ],
      "source": [
        "# hint: store all words for all movies in a set, change it to a list and sort\n",
        "word_set = set()\n",
        "for overview in df[\"pr_overview\"]:\n",
        "    word_set.update(overview.split())\n",
        "word_list = sorted(list(word_set))\n",
        "vocab_len = len(word_list)\n",
        "print(vocab_len)"
      ]
    },
    {
      "cell_type": "markdown",
      "id": "f276b825",
      "metadata": {
        "id": "f276b825"
      },
      "source": [
        "### Q2.2.4 Encoding the labels\n",
        "\n",
        "In the case of genres, we one-hot encoded the outputs by taking a single random genre. However, an alternative method is to add up the one-hot encodings to form some kind of histogram. For example, if we have an overview \"a brown dog\", and our vocab is \\[a brown, big, cabbage, dog, goat, cow, turkey\\], the one-hot vector would be \\[1,1,0,0,1,0,0,0\\]. If our overview is \"a big brown dog\", the one-hot vector would be \\[1,1,1,0,1,0,0,0\\]. If our overview is \"a big big brown dog\", the one-hot vector would be \\[1,1,2,0,1,0,0,0\\]. You can use the `encode_labels` function that you defined earlier."
      ]
    },
    {
      "cell_type": "code",
      "execution_count": 72,
      "id": "d212192f",
      "metadata": {
        "colab": {
          "base_uri": "https://localhost:8080/"
        },
        "id": "d212192f",
        "outputId": "f7dde3b5-18a5-46b8-9265-f9d968aae59f"
      },
      "outputs": [
        {
          "output_type": "stream",
          "name": "stderr",
          "text": [
            "100%|██████████| 4707/4707 [01:47<00:00, 43.64it/s]"
          ]
        },
        {
          "output_type": "stream",
          "name": "stdout",
          "text": [
            "0       [0.0, 0.0, 0.0, 0.0, 0.0, 0.0, 0.0, 0.0, 0.0, ...\n",
            "1       [0.0, 0.0, 0.0, 0.0, 0.0, 0.0, 0.0, 0.0, 0.0, ...\n",
            "2       [0.0, 0.0, 0.0, 0.0, 0.0, 0.0, 0.0, 0.0, 0.0, ...\n",
            "3       [0.0, 0.0, 0.0, 0.0, 0.0, 0.0, 0.0, 0.0, 0.0, ...\n",
            "4       [0.0, 0.0, 0.0, 0.0, 0.0, 0.0, 0.0, 0.0, 0.0, ...\n",
            "                              ...                        \n",
            "4794    [0.0, 0.0, 0.0, 0.0, 0.0, 0.0, 0.0, 0.0, 0.0, ...\n",
            "4795    [0.0, 0.0, 0.0, 0.0, 0.0, 0.0, 0.0, 0.0, 0.0, ...\n",
            "4797    [0.0, 0.0, 0.0, 0.0, 0.0, 0.0, 0.0, 0.0, 0.0, ...\n",
            "4798    [0.0, 0.0, 0.0, 0.0, 0.0, 0.0, 0.0, 0.0, 0.0, ...\n",
            "4799    [0.0, 0.0, 0.0, 0.0, 0.0, 0.0, 0.0, 0.0, 0.0, ...\n",
            "Name: one_hot_overview, Length: 4707, dtype: object\n"
          ]
        },
        {
          "output_type": "stream",
          "name": "stderr",
          "text": [
            "\n"
          ]
        }
      ],
      "source": [
        "# this code is just a hint, if you want you can do it as you please\n",
        "# as long as the output remains the same\n",
        "encoded_labels = []\n",
        "for index, row in tqdm(df.iterrows(), total=len(df)):\n",
        "    sentence_encode = []\n",
        "    for word in row[\"pr_overview\"]:\n",
        "      word_encode = encode_labels(word, word_list)\n",
        "      sentence_encode.append(word_encode)\n",
        "    sentence_encode = np.sum(sentence_encode, axis=0)\n",
        "    encoded_labels.append(sentence_encode)\n",
        "\n",
        "df[\"one_hot_overview\"] = encoded_labels\n",
        "print(df['one_hot_overview'])"
      ]
    },
    {
      "cell_type": "markdown",
      "id": "7c62e127",
      "metadata": {
        "id": "7c62e127"
      },
      "source": [
        "**Q2.2.5** Each vector is a vector of floating point (64-bit) numbers. Assuming each float takes up exactly 16-bytes, how many bytes does this take to store (theoretically)?"
      ]
    },
    {
      "cell_type": "markdown",
      "id": "193b8235",
      "metadata": {
        "id": "193b8235"
      },
      "source": [
        "16 * 4.707 = 75.312 bytes"
      ]
    },
    {
      "cell_type": "markdown",
      "id": "1f3b3700",
      "metadata": {
        "id": "1f3b3700"
      },
      "source": [
        "# Q3 Principal Component Analysis\n",
        "\n",
        "**Q3.1** Using the overview encoded into one-hot encodings, perform PCA and plot this into a 2-D image as a scatter plot."
      ]
    },
    {
      "cell_type": "code",
      "execution_count": 74,
      "id": "832f2be7",
      "metadata": {
        "colab": {
          "base_uri": "https://localhost:8080/",
          "height": 932
        },
        "id": "832f2be7",
        "outputId": "306d5746-1a83-48fd-94c3-1d838998f058"
      },
      "outputs": [
        {
          "output_type": "display_data",
          "data": {
            "text/plain": [
              "<Figure size 800x400 with 4 Axes>"
            ],
            "image/png": "[encoded data removed]"
          },
          "metadata": {}
        },
        {
          "output_type": "display_data",
          "data": {
            "text/plain": [
              "<Figure size 800x600 with 2 Axes>"
            ],
            "image/png": "[encoded data removed]"
          },
          "metadata": {}
        }
      ],
      "source": [
        "# import PCA decomposition class from sklearn\n",
        "from sklearn.decomposition import PCA\n",
        "\n",
        "# we did exactly this in the lecture notebook\n",
        "overview_array = np.array(df['one_hot_overview'].tolist())\n",
        "\n",
        "overview_array = np.array(df['one_hot_overview'].tolist())\n",
        "overview_array = overview_array / np.max(overview_array)\n",
        "overview_array = overview_array.reshape(-1, overview_array.shape[1])\n",
        "\n",
        "\n",
        "pca = PCA(n_components=2)\n",
        "overview_pca = pca.fit_transform(overview_array)\n",
        "\n",
        "fig, ax = plt.subplots(1, 2, figsize=(8, 4))\n",
        "for i, c in enumerate(pca.components_):\n",
        "    pos = ax[i].imshow(c.reshape(1, 12493)) # I could not reshape the data to fit in any shape, so i just made it a 1 by 12493\n",
        "    plt.colorbar(pos, ax=ax[i])\n",
        "    ax[i].set_title(f\"Principal Component {i+1}\")\n",
        "plt.suptitle('Principal Components of Overview One-Hot Encodings')\n",
        "plt.show()\n",
        "\n",
        "plt.figure(figsize=(8, 6))\n",
        "plt.scatter(overview_pca[:, 0], overview_pca[:, 1], alpha=0.6)\n",
        "plt.colorbar()\n",
        "plt.title('Overview One-Hot Encodings Projected using PCA')\n",
        "plt.xlabel('Principal Component 1')\n",
        "plt.ylabel('Principal Component 2')\n",
        "plt.show()"
      ]
    },
    {
      "cell_type": "markdown",
      "id": "a63054b6",
      "metadata": {
        "id": "a63054b6"
      },
      "source": [
        "**Q3.2** Do you see any interpretable structure in the above plot (\"interpretable\" $\\rightarrow$ the patterns are explainable)."
      ]
    },
    {
      "cell_type": "markdown",
      "id": "a9409e7b",
      "metadata": {
        "id": "a9409e7b"
      },
      "source": [
        "There is no correlation in the plot. It should also be stated that all the data is centered around (0, 0)."
      ]
    },
    {
      "cell_type": "markdown",
      "id": "4482c5e5",
      "metadata": {
        "id": "4482c5e5"
      },
      "source": [
        "**Q3.3** Quantify how much variance information a 2D PCA projection loses for this dataset."
      ]
    },
    {
      "cell_type": "code",
      "source": [
        "pca = PCA(n_components=50)\n",
        "pca.fit(overview_array)\n",
        "\n",
        "explained_variance = pca.explained_variance_\n",
        "cumulative_variance = np.cumsum(explained_variance)\n",
        "\n",
        "\n",
        "plt.plot(explained_variance, label=\"Explained variance\")\n",
        "plt.plot(cumulative_variance, label=\"Cumulative explained variance\")\n",
        "plt.legend()\n",
        "plt.show()\n"
      ],
      "metadata": {
        "colab": {
          "base_uri": "https://localhost:8080/",
          "height": 430
        },
        "id": "DQVi_sOmbJf-",
        "outputId": "6cd6862b-f5b1-4044-87d8-17959fb0d582"
      },
      "id": "DQVi_sOmbJf-",
      "execution_count": 75,
      "outputs": [
        {
          "output_type": "display_data",
          "data": {
            "text/plain": [
              "<Figure size 640x480 with 1 Axes>"
            ],
            "image/png": "[encoded data removed]"
          },
          "metadata": {}
        }
      ]
    },
    {
      "cell_type": "markdown",
      "id": "2338a25d",
      "metadata": {
        "id": "2338a25d"
      },
      "source": [
        "0.14"
      ]
    },
    {
      "cell_type": "markdown",
      "id": "7da99ba5",
      "metadata": {
        "id": "7da99ba5"
      },
      "source": [
        "**Q3.4** Plot a line graph where the y-axis is cumulative explained variance ratio and the x-axis is the number of PCA components."
      ]
    },
    {
      "cell_type": "code",
      "execution_count": 76,
      "id": "e0cac8ff",
      "metadata": {
        "scrolled": false,
        "id": "e0cac8ff",
        "colab": {
          "base_uri": "https://localhost:8080/",
          "height": 449
        },
        "outputId": "2c6ea23f-98d9-4c85-ea43-6a298cd3479c"
      },
      "outputs": [
        {
          "output_type": "display_data",
          "data": {
            "text/plain": [
              "<Figure size 640x480 with 1 Axes>"
            ],
            "image/png": "[encoded data removed]"
          },
          "metadata": {}
        }
      ],
      "source": [
        "pca = PCA(n_components=50)\n",
        "pca.fit(overview_array)\n",
        "\n",
        "explained_variance = pca.explained_variance_\n",
        "cumulative_variance = np.cumsum(explained_variance)\n",
        "\n",
        "\n",
        "plt.plot(explained_variance, label=\"Explained variance\")\n",
        "plt.plot(cumulative_variance, label=\"Cumulative explained variance\")\n",
        "plt.legend()\n",
        "plt.xlabel('Number of PCA Components')\n",
        "plt.ylabel('Cumulative Explained Variance Ratio')\n",
        "plt.show()"
      ]
    },
    {
      "cell_type": "markdown",
      "id": "8b36c9b2",
      "metadata": {
        "id": "8b36c9b2"
      },
      "source": [
        "**Q3.5** How many principal components do you need in order to explain 80% of the total variance in the data?\n",
        "\n",
        "Note: don't just estimate it by eye, write some code to compute it for you."
      ]
    },
    {
      "cell_type": "code",
      "execution_count": 78,
      "id": "95c44b2d",
      "metadata": {
        "id": "95c44b2d",
        "colab": {
          "base_uri": "https://localhost:8080/"
        },
        "outputId": "efc68560-8415-41e6-8d2c-0469e138a458"
      },
      "outputs": [
        {
          "output_type": "stream",
          "name": "stdout",
          "text": [
            "11\n"
          ]
        }
      ],
      "source": [
        "from sklearn.decomposition import PCA\n",
        "\n",
        "explained_variance_ratio = pca.explained_variance_ratio_\n",
        "cumulative_variance = 0.0\n",
        "n_components_80_percent = 0\n",
        "\n",
        "for i, variance_ratio in enumerate(explained_variance_ratio):\n",
        "    cumulative_variance += variance_ratio\n",
        "    if cumulative_variance >= 0.8:\n",
        "        n_components_80_percent = i + 1\n",
        "        break\n",
        "\n",
        "print(n_components_80_percent)\n"
      ]
    },
    {
      "cell_type": "markdown",
      "id": "b608db91",
      "metadata": {
        "id": "b608db91"
      },
      "source": [
        "11"
      ]
    },
    {
      "cell_type": "markdown",
      "id": "ee3b5c33",
      "metadata": {
        "id": "ee3b5c33"
      },
      "source": [
        "**Q3.6** Using the number of dimensions you found in Q3.5, fit and transform your overview encodings using PCA and add it to a new column called `overview_pca` in the dataframe."
      ]
    },
    {
      "cell_type": "code",
      "execution_count": 79,
      "id": "8a6eb40b",
      "metadata": {
        "id": "8a6eb40b"
      },
      "outputs": [],
      "source": [
        "n_dims = 11\n",
        "pca = PCA(n_components=n_dims)\n",
        "one_hot_overview_encodings = pd.get_dummies(df['overview'])\n",
        "\n",
        "pca.fit(one_hot_overview_encodings)\n",
        "labels_pca = pca.transform(one_hot_overview_encodings)[:, :n_dims]\n",
        "df[\"overview_pca\"] = labels_pca[:, 0]"
      ]
    },
    {
      "cell_type": "markdown",
      "id": "309d3256",
      "metadata": {
        "id": "309d3256"
      },
      "source": [
        "# Q4 K-Means Clustering\n",
        "\n",
        "**Q4.1** Cluster the movies based on the features that were extracted via PCA in the last step. Set $K=20$. Add the predicted cluster into the dataframe as a new column called `cluster_kmeans`. Print out the elements of cluster number 0 from the dataframe."
      ]
    },
    {
      "cell_type": "code",
      "execution_count": 80,
      "id": "f5f5781e",
      "metadata": {
        "id": "f5f5781e",
        "colab": {
          "base_uri": "https://localhost:8080/"
        },
        "outputId": "f7f02071-15bc-4c03-a80d-ea83ae76426b"
      },
      "outputs": [
        {
          "output_type": "stream",
          "name": "stderr",
          "text": [
            "/usr/local/lib/python3.10/dist-packages/sklearn/cluster/_kmeans.py:870: FutureWarning: The default value of `n_init` will change from 10 to 'auto' in 1.4. Set the value of `n_init` explicitly to suppress the warning\n",
            "  warnings.warn(\n"
          ]
        },
        {
          "output_type": "stream",
          "name": "stdout",
          "text": [
            "                                 original_title  \\\n",
            "19    The Hobbit: The Battle of the Five Armies   \n",
            "43                         Terminator Salvation   \n",
            "50          Prince of Persia: The Sands of Time   \n",
            "58                                  Rush Hour 3   \n",
            "68                                     Iron Man   \n",
            "...                                         ...   \n",
            "4658                             The Big Parade   \n",
            "4675               The Business of Fancydancing   \n",
            "4678                               Reality Show   \n",
            "4696                              Lumea e a mea   \n",
            "4791               Sanctuary: Quite a Conundrum   \n",
            "\n",
            "                                               overview  \\\n",
            "19    Immediately after the events of The Desolation...   \n",
            "43    All grown up in post-apocalyptic 2018, John Co...   \n",
            "50    A rogue prince reluctantly joins forces with a...   \n",
            "58    After an attempted assassination on Ambassador...   \n",
            "68    After being held captive in an Afghan cave, bi...   \n",
            "...                                                 ...   \n",
            "4658  The story of an idle rich boy who joins the US...   \n",
            "4675  Seymour Polatkin is a successful, gay Indian p...   \n",
            "4678  The Warwick family are unknowingly being filme...   \n",
            "4696  Larisa is 16 and lives in a city by the sea. I...   \n",
            "4791  It should have been just a normal day of sex, ...   \n",
            "\n",
            "                                                 genres      proc_genres  \\\n",
            "19    [{\"id\": 28, \"name\": \"Action\"}, {\"id\": 12, \"nam...        Adventure   \n",
            "43    [{\"id\": 28, \"name\": \"Action\"}, {\"id\": 878, \"na...           Action   \n",
            "50    [{\"id\": 12, \"name\": \"Adventure\"}, {\"id\": 14, \"...        Adventure   \n",
            "58    [{\"id\": 28, \"name\": \"Action\"}, {\"id\": 35, \"nam...         Thriller   \n",
            "68    [{\"id\": 28, \"name\": \"Action\"}, {\"id\": 878, \"na...  Science Fiction   \n",
            "...                                                 ...              ...   \n",
            "4658  [{\"id\": 18, \"name\": \"Drama\"}, {\"id\": 10749, \"n...              War   \n",
            "4675  [{\"id\": 10402, \"name\": \"Music\"}, {\"id\": 18, \"n...            Drama   \n",
            "4678                                                 []          Unknown   \n",
            "4696                      [{\"id\": 18, \"name\": \"Drama\"}]            Drama   \n",
            "4791  [{\"id\": 53, \"name\": \"Thriller\"}, {\"id\": 27, \"n...           Horror   \n",
            "\n",
            "                                         one_hot_genres  \\\n",
            "19    [0.0, 1.0, 0.0, 0.0, 0.0, 0.0, 0.0, 0.0, 0.0, ...   \n",
            "43    [1.0, 0.0, 0.0, 0.0, 0.0, 0.0, 0.0, 0.0, 0.0, ...   \n",
            "50    [0.0, 1.0, 0.0, 0.0, 0.0, 0.0, 0.0, 0.0, 0.0, ...   \n",
            "58    [0.0, 0.0, 0.0, 0.0, 0.0, 0.0, 0.0, 0.0, 0.0, ...   \n",
            "68    [0.0, 0.0, 0.0, 0.0, 0.0, 0.0, 0.0, 0.0, 0.0, ...   \n",
            "...                                                 ...   \n",
            "4658  [0.0, 0.0, 0.0, 0.0, 0.0, 0.0, 0.0, 0.0, 0.0, ...   \n",
            "4675  [0.0, 0.0, 0.0, 0.0, 0.0, 0.0, 1.0, 0.0, 0.0, ...   \n",
            "4678  [0.0, 0.0, 0.0, 0.0, 0.0, 0.0, 0.0, 0.0, 0.0, ...   \n",
            "4696  [0.0, 0.0, 0.0, 0.0, 0.0, 0.0, 1.0, 0.0, 0.0, ...   \n",
            "4791  [0.0, 0.0, 0.0, 0.0, 0.0, 0.0, 0.0, 0.0, 0.0, ...   \n",
            "\n",
            "                                            pr_overview  overview_len  \\\n",
            "19    immediately after the events of the desolation...            74   \n",
            "43    all grown up in postapocalyptic 2018 john conn...            51   \n",
            "50    a rogue prince reluctantly joins forces with a...            45   \n",
            "58    after an attempted assassination on ambassador...            60   \n",
            "68    after being held captive in an afghan cave bil...            22   \n",
            "...                                                 ...           ...   \n",
            "4658  the story of an idle rich boy who joins the us...            45   \n",
            "4675  seymour polatkin is a successful gay indian po...            32   \n",
            "4678  the warwick family are unknowingly being filme...            35   \n",
            "4696  larisa is 16 and lives in a city by the sea it...            86   \n",
            "4791  it should have been just a normal day of sex f...            40   \n",
            "\n",
            "                                       one_hot_overview  overview_pca  \\\n",
            "19    [0.0, 0.0, 0.0, 0.0, 0.0, 0.0, 0.0, 0.0, 0.0, ...     -0.001169   \n",
            "43    [0.0, 0.0, 1.0, 0.0, 0.0, 0.0, 0.0, 0.0, 0.0, ...      0.025543   \n",
            "50    [0.0, 0.0, 0.0, 0.0, 0.0, 0.0, 0.0, 0.0, 0.0, ...      0.014242   \n",
            "58    [0.0, 0.0, 0.0, 0.0, 0.0, 0.0, 0.0, 0.0, 0.0, ...      0.038225   \n",
            "68    [0.0, 0.0, 0.0, 0.0, 0.0, 0.0, 0.0, 0.0, 0.0, ...      0.001016   \n",
            "...                                                 ...           ...   \n",
            "4658  [0.0, 0.0, 0.0, 0.0, 0.0, 0.0, 0.0, 0.0, 0.0, ...      0.016288   \n",
            "4675  [0.0, 0.0, 0.0, 0.0, 0.0, 0.0, 0.0, 0.0, 0.0, ...      0.019660   \n",
            "4678  [0.0, 0.0, 0.0, 0.0, 0.0, 0.0, 0.0, 0.0, 0.0, ...      0.020738   \n",
            "4696  [0.0, 0.0, 1.0, 0.0, 0.0, 0.0, 0.0, 0.0, 0.0, ...      0.043171   \n",
            "4791  [0.0, 0.0, 0.0, 0.0, 0.0, 0.0, 0.0, 0.0, 0.0, ...      0.027596   \n",
            "\n",
            "      cluster_kmeans  \n",
            "19                 0  \n",
            "43                 0  \n",
            "50                 0  \n",
            "58                 0  \n",
            "68                 0  \n",
            "...              ...  \n",
            "4658               0  \n",
            "4675               0  \n",
            "4678               0  \n",
            "4696               0  \n",
            "4791               0  \n",
            "\n",
            "[205 rows x 10 columns]\n"
          ]
        }
      ],
      "source": [
        "# import KMeans class\n",
        "from sklearn.cluster import KMeans\n",
        "\n",
        "# Perform K-means clustering\n",
        "kmeans = KMeans(n_clusters=20)\n",
        "# fit model\n",
        "kmeans.fit(labels_pca)\n",
        "\n",
        "y_preds = kmeans.predict(labels_pca)# get predictions\n",
        "df[\"cluster_kmeans\"] = y_preds # set predictions\n",
        "\n",
        "# print out elements of cluster 0\n",
        "cluster_0 = df[df[\"cluster_kmeans\"] == 0]\n",
        "print(cluster_0)"
      ]
    },
    {
      "cell_type": "markdown",
      "id": "34334c6c",
      "metadata": {
        "id": "34334c6c"
      },
      "source": [
        "**Q4.2** Does this clustering seem alright to you (based on your movie watching history)? Are there movies that go well together and movies that don't?"
      ]
    },
    {
      "cell_type": "markdown",
      "id": "9f1d40cc",
      "metadata": {
        "id": "9f1d40cc"
      },
      "source": [
        "No, not necessarily, although a lot of them can fit under the same category (eg. both men in black 3 and avengers: age of ultron can be classsified as fiction/ science fiction movies), some are completely unrelated (eg. skyfall)."
      ]
    },
    {
      "cell_type": "markdown",
      "id": "0407f9e4",
      "metadata": {
        "id": "0407f9e4"
      },
      "source": [
        "**Q4.3** Now, we'll figure out whether using the elbow method is right for this dataset. Plot a loss (using `kmeans.inertia_`) versus cluster size plot. Is there an elbow that you see clearly? What cluster size would you choose?"
      ]
    },
    {
      "cell_type": "markdown",
      "id": "4984dcd9",
      "metadata": {
        "id": "4984dcd9"
      },
      "source": [
        "4"
      ]
    },
    {
      "cell_type": "code",
      "execution_count": 81,
      "id": "cb3a37ee",
      "metadata": {
        "id": "cb3a37ee",
        "colab": {
          "base_uri": "https://localhost:8080/",
          "height": 1000
        },
        "outputId": "b311b0bf-1847-44b9-f1ab-ab6f5bd52b10"
      },
      "outputs": [
        {
          "output_type": "stream",
          "name": "stderr",
          "text": [
            "/usr/local/lib/python3.10/dist-packages/sklearn/cluster/_kmeans.py:870: FutureWarning: The default value of `n_init` will change from 10 to 'auto' in 1.4. Set the value of `n_init` explicitly to suppress the warning\n",
            "  warnings.warn(\n",
            "/usr/local/lib/python3.10/dist-packages/sklearn/cluster/_kmeans.py:870: FutureWarning: The default value of `n_init` will change from 10 to 'auto' in 1.4. Set the value of `n_init` explicitly to suppress the warning\n",
            "  warnings.warn(\n",
            "/usr/local/lib/python3.10/dist-packages/sklearn/cluster/_kmeans.py:870: FutureWarning: The default value of `n_init` will change from 10 to 'auto' in 1.4. Set the value of `n_init` explicitly to suppress the warning\n",
            "  warnings.warn(\n",
            "/usr/local/lib/python3.10/dist-packages/sklearn/cluster/_kmeans.py:870: FutureWarning: The default value of `n_init` will change from 10 to 'auto' in 1.4. Set the value of `n_init` explicitly to suppress the warning\n",
            "  warnings.warn(\n",
            "/usr/local/lib/python3.10/dist-packages/sklearn/cluster/_kmeans.py:870: FutureWarning: The default value of `n_init` will change from 10 to 'auto' in 1.4. Set the value of `n_init` explicitly to suppress the warning\n",
            "  warnings.warn(\n",
            "/usr/local/lib/python3.10/dist-packages/sklearn/cluster/_kmeans.py:870: FutureWarning: The default value of `n_init` will change from 10 to 'auto' in 1.4. Set the value of `n_init` explicitly to suppress the warning\n",
            "  warnings.warn(\n",
            "/usr/local/lib/python3.10/dist-packages/sklearn/cluster/_kmeans.py:870: FutureWarning: The default value of `n_init` will change from 10 to 'auto' in 1.4. Set the value of `n_init` explicitly to suppress the warning\n",
            "  warnings.warn(\n",
            "/usr/local/lib/python3.10/dist-packages/sklearn/cluster/_kmeans.py:870: FutureWarning: The default value of `n_init` will change from 10 to 'auto' in 1.4. Set the value of `n_init` explicitly to suppress the warning\n",
            "  warnings.warn(\n",
            "/usr/local/lib/python3.10/dist-packages/sklearn/cluster/_kmeans.py:870: FutureWarning: The default value of `n_init` will change from 10 to 'auto' in 1.4. Set the value of `n_init` explicitly to suppress the warning\n",
            "  warnings.warn(\n",
            "/usr/local/lib/python3.10/dist-packages/sklearn/cluster/_kmeans.py:870: FutureWarning: The default value of `n_init` will change from 10 to 'auto' in 1.4. Set the value of `n_init` explicitly to suppress the warning\n",
            "  warnings.warn(\n",
            "/usr/local/lib/python3.10/dist-packages/sklearn/cluster/_kmeans.py:870: FutureWarning: The default value of `n_init` will change from 10 to 'auto' in 1.4. Set the value of `n_init` explicitly to suppress the warning\n",
            "  warnings.warn(\n",
            "/usr/local/lib/python3.10/dist-packages/sklearn/cluster/_kmeans.py:870: FutureWarning: The default value of `n_init` will change from 10 to 'auto' in 1.4. Set the value of `n_init` explicitly to suppress the warning\n",
            "  warnings.warn(\n",
            "/usr/local/lib/python3.10/dist-packages/sklearn/cluster/_kmeans.py:870: FutureWarning: The default value of `n_init` will change from 10 to 'auto' in 1.4. Set the value of `n_init` explicitly to suppress the warning\n",
            "  warnings.warn(\n",
            "/usr/local/lib/python3.10/dist-packages/sklearn/cluster/_kmeans.py:870: FutureWarning: The default value of `n_init` will change from 10 to 'auto' in 1.4. Set the value of `n_init` explicitly to suppress the warning\n",
            "  warnings.warn(\n",
            "/usr/local/lib/python3.10/dist-packages/sklearn/cluster/_kmeans.py:870: FutureWarning: The default value of `n_init` will change from 10 to 'auto' in 1.4. Set the value of `n_init` explicitly to suppress the warning\n",
            "  warnings.warn(\n",
            "/usr/local/lib/python3.10/dist-packages/sklearn/cluster/_kmeans.py:870: FutureWarning: The default value of `n_init` will change from 10 to 'auto' in 1.4. Set the value of `n_init` explicitly to suppress the warning\n",
            "  warnings.warn(\n",
            "/usr/local/lib/python3.10/dist-packages/sklearn/cluster/_kmeans.py:870: FutureWarning: The default value of `n_init` will change from 10 to 'auto' in 1.4. Set the value of `n_init` explicitly to suppress the warning\n",
            "  warnings.warn(\n",
            "/usr/local/lib/python3.10/dist-packages/sklearn/cluster/_kmeans.py:870: FutureWarning: The default value of `n_init` will change from 10 to 'auto' in 1.4. Set the value of `n_init` explicitly to suppress the warning\n",
            "  warnings.warn(\n",
            "/usr/local/lib/python3.10/dist-packages/sklearn/cluster/_kmeans.py:870: FutureWarning: The default value of `n_init` will change from 10 to 'auto' in 1.4. Set the value of `n_init` explicitly to suppress the warning\n",
            "  warnings.warn(\n",
            "/usr/local/lib/python3.10/dist-packages/sklearn/cluster/_kmeans.py:870: FutureWarning: The default value of `n_init` will change from 10 to 'auto' in 1.4. Set the value of `n_init` explicitly to suppress the warning\n",
            "  warnings.warn(\n"
          ]
        },
        {
          "output_type": "display_data",
          "data": {
            "text/plain": [
              "<Figure size 640x480 with 1 Axes>"
            ],
            "image/png": "[encoded data removed]"
          },
          "metadata": {}
        }
      ],
      "source": [
        "loss = []\n",
        "overview_pca_2d = np.array(df[\"overview_pca\"]).reshape(-1, 1)\n",
        "\n",
        "k_values = range(1, 21)\n",
        "\n",
        "for k in k_values:\n",
        "    kmeans = KMeans(n_clusters=k, random_state=42)\n",
        "    kmeans.fit(overview_pca_2d)\n",
        "    loss.append(kmeans.inertia_)\n",
        "\n",
        "plt.plot(cluster_sizes, loss, marker='o')\n",
        "plt.xlabel('K')\n",
        "plt.ylabel('Loss')\n",
        "plt.grid(True)\n",
        "plt.show()"
      ]
    },
    {
      "cell_type": "markdown",
      "id": "3e89e224",
      "metadata": {
        "id": "3e89e224"
      },
      "source": [
        "# Q5 Gaussian Mixture Models\n",
        "\n",
        "**Q5.1** As with the K-means above, cluster the movies based on the features that were extracted via PCA in a previous step. Set $K=20$. Add the predicted cluster into the dataframe as a new column called `cluster_gmm`. Print out the elements of a single cluster of your choice from the dataframe."
      ]
    },
    {
      "cell_type": "code",
      "execution_count": 82,
      "id": "86735028",
      "metadata": {
        "id": "86735028",
        "colab": {
          "base_uri": "https://localhost:8080/"
        },
        "outputId": "db764385-ddc2-4ced-c22a-95118236330c"
      },
      "outputs": [
        {
          "output_type": "stream",
          "name": "stdout",
          "text": [
            "                   original_title  \\\n",
            "16                   The Avengers   \n",
            "49               The Great Gatsby   \n",
            "81                     Maleficent   \n",
            "206           Clash of the Titans   \n",
            "212        The Day After Tomorrow   \n",
            "...                           ...   \n",
            "4731                     Echo Dr.   \n",
            "4755                   The Signal   \n",
            "4760  Smiling Fish & Goat On Fire   \n",
            "4777                  Dutch Kills   \n",
            "4797    Signed, Sealed, Delivered   \n",
            "\n",
            "                                               overview  \\\n",
            "16    When an unexpected enemy emerges and threatens...   \n",
            "49    An adaptation of F. Scott Fitzgerald's Long Is...   \n",
            "81    The untold story of Disney's most iconic villa...   \n",
            "206   Born of a god but raised as a man, Perseus is ...   \n",
            "212   After years of increases in the greenhouse eff...   \n",
            "...                                                 ...   \n",
            "4731  When their home security system malfunctions, ...   \n",
            "4755  Three college students on a road trip across t...   \n",
            "4760  Two brothers share a house in LA's Fairfax dis...   \n",
            "4777  A desperate ex-con is forced to gather his old...   \n",
            "4797  \"Signed, Sealed, Delivered\" introduces a dedic...   \n",
            "\n",
            "                                                 genres      proc_genres  \\\n",
            "16    [{\"id\": 878, \"name\": \"Science Fiction\"}, {\"id\"...  Science Fiction   \n",
            "49    [{\"id\": 18, \"name\": \"Drama\"}, {\"id\": 10749, \"n...            Drama   \n",
            "81    [{\"id\": 14, \"name\": \"Fantasy\"}, {\"id\": 12, \"na...        Adventure   \n",
            "206   [{\"id\": 12, \"name\": \"Adventure\"}, {\"id\": 14, \"...          Fantasy   \n",
            "212   [{\"id\": 28, \"name\": \"Action\"}, {\"id\": 12, \"nam...         Thriller   \n",
            "...                                                 ...              ...   \n",
            "4731  [{\"id\": 53, \"name\": \"Thriller\"}, {\"id\": 28, \"n...  Science Fiction   \n",
            "4755  [{\"id\": 53, \"name\": \"Thriller\"}, {\"id\": 878, \"...  Science Fiction   \n",
            "4760  [{\"id\": 35, \"name\": \"Comedy\"}, {\"id\": 10749, \"...           Comedy   \n",
            "4777  [{\"id\": 53, \"name\": \"Thriller\"}, {\"id\": 80, \"n...            Drama   \n",
            "4797  [{\"id\": 35, \"name\": \"Comedy\"}, {\"id\": 18, \"nam...         TV Movie   \n",
            "\n",
            "                                         one_hot_genres  \\\n",
            "16    [0.0, 0.0, 0.0, 0.0, 0.0, 0.0, 0.0, 0.0, 0.0, ...   \n",
            "49    [0.0, 0.0, 0.0, 0.0, 0.0, 0.0, 1.0, 0.0, 0.0, ...   \n",
            "81    [0.0, 1.0, 0.0, 0.0, 0.0, 0.0, 0.0, 0.0, 0.0, ...   \n",
            "206   [0.0, 0.0, 0.0, 0.0, 0.0, 0.0, 0.0, 0.0, 1.0, ...   \n",
            "212   [0.0, 0.0, 0.0, 0.0, 0.0, 0.0, 0.0, 0.0, 0.0, ...   \n",
            "...                                                 ...   \n",
            "4731  [0.0, 0.0, 0.0, 0.0, 0.0, 0.0, 0.0, 0.0, 0.0, ...   \n",
            "4755  [0.0, 0.0, 0.0, 0.0, 0.0, 0.0, 0.0, 0.0, 0.0, ...   \n",
            "4760  [0.0, 0.0, 0.0, 1.0, 0.0, 0.0, 0.0, 0.0, 0.0, ...   \n",
            "4777  [0.0, 0.0, 0.0, 0.0, 0.0, 0.0, 1.0, 0.0, 0.0, ...   \n",
            "4797  [0.0, 0.0, 0.0, 0.0, 0.0, 0.0, 0.0, 0.0, 0.0, ...   \n",
            "\n",
            "                                            pr_overview  overview_len  \\\n",
            "16    when an unexpected enemy emerges and threatens...            47   \n",
            "49    an adaptation of f scott fitzgeralds long isla...            44   \n",
            "81    the untold story of disneys most iconic villai...           117   \n",
            "206   born of a god but raised as a man perseus is h...            77   \n",
            "212   after years of increases in the greenhouse eff...            62   \n",
            "...                                                 ...           ...   \n",
            "4731  when their home security system malfunctions a...            26   \n",
            "4755  three college students on a road trip across t...            58   \n",
            "4760  two brothers share a house in las fairfax dist...           118   \n",
            "4777  a desperate excon is forced to gather his old ...            25   \n",
            "4797  signed sealed delivered introduces a dedicated...            73   \n",
            "\n",
            "                                       one_hot_overview  overview_pca  \\\n",
            "16    [0.0, 0.0, 0.0, 0.0, 0.0, 0.0, 0.0, 0.0, 0.0, ...      0.002342   \n",
            "49    [0.0, 0.0, 0.0, 0.0, 0.0, 0.0, 0.0, 0.0, 0.0, ...     -0.024777   \n",
            "81    [0.0, 0.0, 1.0, 0.0, 0.0, 0.0, 0.0, 0.0, 0.0, ...      0.022466   \n",
            "206   [0.0, 0.0, 0.0, 0.0, 0.0, 0.0, 0.0, 0.0, 0.0, ...      0.019991   \n",
            "212   [0.0, 0.0, 0.0, 0.0, 0.0, 0.0, 0.0, 0.0, 0.0, ...      0.014037   \n",
            "...                                                 ...           ...   \n",
            "4731  [0.0, 0.0, 0.0, 0.0, 0.0, 0.0, 0.0, 0.0, 0.0, ...      0.009855   \n",
            "4755  [0.0, 0.0, 0.0, 0.0, 0.0, 0.0, 0.0, 0.0, 0.0, ...      0.031357   \n",
            "4760  [0.0, 0.0, 0.0, 0.0, 0.0, 0.0, 0.0, 0.0, 0.0, ...      0.015124   \n",
            "4777  [0.0, 0.0, 0.0, 0.0, 0.0, 0.0, 0.0, 0.0, 0.0, ...      0.021587   \n",
            "4797  [0.0, 0.0, 0.0, 0.0, 0.0, 0.0, 0.0, 0.0, 0.0, ...      0.008707   \n",
            "\n",
            "      cluster_kmeans  cluster_gmm  \n",
            "16                 8            4  \n",
            "49                13            4  \n",
            "81                19            4  \n",
            "206                3            4  \n",
            "212               19            4  \n",
            "...              ...          ...  \n",
            "4731               3            4  \n",
            "4755              15            4  \n",
            "4760              15            4  \n",
            "4777               5            4  \n",
            "4797              15            4  \n",
            "\n",
            "[151 rows x 11 columns]\n"
          ]
        }
      ],
      "source": [
        "from sklearn.mixture import GaussianMixture\n",
        "\n",
        "gmm = GaussianMixture(n_components=20)\n",
        "gmm.fit(labels_pca)\n",
        "\n",
        "cluster_gmm = gmm.predict(labels_pca)\n",
        "df[\"cluster_gmm\"] = cluster_gmm\n",
        "\n",
        "cluster_id = 4\n",
        "cluster_elements = df[df[\"cluster_gmm\"] == cluster_id]\n",
        "print(cluster_elements)\n"
      ]
    },
    {
      "cell_type": "markdown",
      "id": "95ed02d9",
      "metadata": {
        "id": "95ed02d9"
      },
      "source": [
        "**Q4.2** Does this clustering seem alright to you (based on your movie watching history)? Are there movies that go well together and movies that don't? How does this compare to K-Means Clustering?"
      ]
    },
    {
      "cell_type": "markdown",
      "id": "c62e20dd",
      "metadata": {
        "id": "c62e20dd"
      },
      "source": [
        "This clustering seems better than that of the previous question. The movies in each cluster are now closer related to each other."
      ]
    },
    {
      "cell_type": "markdown",
      "id": "3b0064a1",
      "metadata": {
        "id": "3b0064a1"
      },
      "source": [
        "**Q4.3** Let's check out the size of the clusters. Create a double bar plot (**as you did in the last assignment**) showing the different sizes of the clusters.\n",
        "\n",
        "*Hint: you may want to consider `df.value_counts()` if you're unfamiliar.*"
      ]
    },
    {
      "cell_type": "code",
      "execution_count": 83,
      "id": "e775ad4f",
      "metadata": {
        "id": "e775ad4f",
        "colab": {
          "base_uri": "https://localhost:8080/",
          "height": 414
        },
        "outputId": "0f1ef648-227e-4c93-9a68-4cdc066ea85a"
      },
      "outputs": [
        {
          "output_type": "display_data",
          "data": {
            "text/plain": [
              "<Figure size 1000x400 with 1 Axes>"
            ],
            "image/png": "[encoded data removed]"
          },
          "metadata": {}
        }
      ],
      "source": [
        "cluster_counts = df['cluster_gmm'].value_counts()\n",
        "\n",
        "plt.figure(figsize=(10, 4))\n",
        "cluster_counts.plot(kind='bar', label='GMM Clusters')\n",
        "\n",
        "plt.xlabel('Cluster ID')\n",
        "plt.ylabel('Number of Movies')\n",
        "plt.title('Size of GMM Clusters')\n",
        "plt.legend()\n",
        "\n",
        "plt.show()"
      ]
    },
    {
      "cell_type": "markdown",
      "id": "cfc124da",
      "metadata": {
        "id": "cfc124da"
      },
      "source": [
        "**Q4.4** Do you see a significant difference in the sizes of the clusters? Which is more uniform? Any thought on why?"
      ]
    },
    {
      "cell_type": "markdown",
      "id": "9f538519",
      "metadata": {
        "id": "9f538519"
      },
      "source": [
        "There is a significance difference in the clusters, when comparing cluster 18 to any other cluster. But, when comparing the other clusters, it becomes obvious that they are much more similar, and thus uniform."
      ]
    },
    {
      "cell_type": "markdown",
      "id": "aa60615d",
      "metadata": {
        "id": "aa60615d"
      },
      "source": [
        "# Q6: A very simple recommender system\n",
        "\n",
        "One useful thing that clustering is often used for (though at a much greater complexity) is in **recommender systems**. These are systems with users and items (movies, files, documents, etc.), where new items are shown to the user based on what they've previously interacted with, and possibly also on the behaviour of other users.\n",
        "\n",
        "**Q6.1** Assume your dentist has just watched the movie Avatar and asks you for a recommendation. Lucky for you, you just finished this assignment. Using the cluster indices of the movie Avatar for both the K-means and GMM methods, print out suggestions for new movies."
      ]
    },
    {
      "cell_type": "code",
      "execution_count": 87,
      "id": "86a74f68",
      "metadata": {
        "id": "86a74f68",
        "colab": {
          "base_uri": "https://localhost:8080/"
        },
        "outputId": "834fcc68-8e53-4698-ac2e-ea2a8e322931"
      },
      "outputs": [
        {
          "output_type": "stream",
          "name": "stdout",
          "text": [
            "Movies similar to Avatar (K-means):\n",
            "['Avatar' 'The Lone Ranger' 'Men in Black 3' 'X-Men: The Last Stand'\n",
            " 'Cars 2' 'Green Lantern' 'The Legend of Tarzan' 'Pearl Harbor'\n",
            " 'Ratatouille' 'Troy' 'Rise of the Guardians'\n",
            " 'Night at the Museum: Secret of the Tomb' 'Oblivion' 'The Croods'\n",
            " 'Windtalkers' \"The Huntsman: Winter's War\" 'Speed 2: Cruise Control'\n",
            " 'The Lord of the Rings: The Return of the King' 'What Lies Beneath'\n",
            " \"You Don't Mess with the Zohan\" 'The Saint' 'Enchanted' 'Creepshow'\n",
            " 'Mission: Impossible' 'Mighty Joe Young' 'What Dreams May Come'\n",
            " 'The Brothers Grimm' 'Immortals' 'Signs' 'Cars' 'The Sum of All Fears'\n",
            " 'Ice Age' 'Due Date' 'Hop' 'Meet the Fockers' 'Paycheck' 'Almost Famous'\n",
            " 'DragonHeart' 'American Wedding' 'Elizabethtown' 'Grindhouse'\n",
            " 'From Paris with Love' 'Stepmom' 'Ninja Assassin' 'K-PAX' '3:10 to Yuma'\n",
            " 'Scary Movie 3' 'Coach Carter' 'Johnny English' 'Babylon A.D.' 'The Firm'\n",
            " 'Here Comes the Boom' 'Lord of War' 'The Odd Life of Timothy Green'\n",
            " 'Aliens vs Predator: Requiem' 'Music and Lyrics' 'Morning Glory'\n",
            " 'The Musketeer' 'Life or Something Like It' 'Pandorum' 'Sunshine'\n",
            " 'Un monstre à Paris' \"The Time Traveler's Wife\" 'Water for Elephants'\n",
            " 'The Thing' 'Magnolia' 'Twilight' 'Blue Streak' 'Batman'\n",
            " 'Lethal Weapon 3' 'Cape Fear' 'Secretariat' 'Heist' 'Cursed'\n",
            " 'Pushing Tin' 'Arachnophobia' 'Get Shorty' 'District 9'\n",
            " 'The Prince of Tides' 'Sicario' '30 Days of Night' 'Fled'\n",
            " 'The Assassination of Jesse James by the Coward Robert Ford'\n",
            " 'Walk the Line' 'The Jacket' 'Florence Foster Jenkins' 'Identity'\n",
            " 'Martian Child' 'A Walk Among the Tombstones' 'The Best of Me'\n",
            " 'There Will Be Blood' 'The Adventures of Pinocchio' 'Warrior'\n",
            " 'The Possession' 'Muppets from Space' 'The Wiz'\n",
            " 'The Thief and the Cobbler' '十月圍城' 'The Little Vampire' 'eXistenZ'\n",
            " 'Tammy' 'The Grudge 2' \"She's Out of My League\" 'Quigley Down Under'\n",
            " 'Nerve' 'School for Scoundrels' 'Paparazzi' 'One Night with the King'\n",
            " 'The Cold Light of Day' 'A Cinderella Story' 'House on Haunted Hill'\n",
            " 'Thomas and the Magic Railroad' 'Left Behind'\n",
            " 'The Legend of the Lone Ranger' 'The Ice Storm' 'Nine 1/2 Weeks'\n",
            " 'Metallica: Through the Never' \"One Man's Hero\" 'A Simple Plan'\n",
            " 'Chasseurs de dragons' 'Wall Street' 'Remember Me'\n",
            " 'My Stepmother is an Alien' 'The Cookout' 'Hollywood Ending'\n",
            " 'The Immigrant' '卧虎藏龙' 'Cop Land' 'The Skulls' 'The Princess Bride'\n",
            " 'Drive' 'When the Game Stands Tall' 'Because of Winn-Dixie'\n",
            " 'Disturbing Behavior' 'Eye of the Beholder' 'Whip It' 'Crazy in Alabama'\n",
            " 'The Good Night' '新宿事件' 'Mr. Turner' 'Amen.'\n",
            " 'Justin Bieber: Never Say Never' 'The Butterfly Effect' \"Child's Play 2\"\n",
            " '54' 'The Land Before Time' 'How High' 'Top Five' 'Living Out Loud'\n",
            " 'Stoker' 'Doctor Zhivago' 'Romance & Cigarettes' 'Darkness'\n",
            " 'The Longest Day' 'Jeepers Creepers' 'Malone' 'The Forest'\n",
            " \"While We're Young\" '少林足球' 'Hai Marjawaan!' 'Nurse 3-D' 'Trading Places'\n",
            " '곡성' 'Club Dread' 'New in Town' 'Another Year' 'Down in the Valley'\n",
            " 'Get Low' 'Veer-Zaara' 'Mother and Child' 'Трудно быть богом'\n",
            " 'The Damned United' 'Ordinary People' 'Bernie' 'Shattered Glass'\n",
            " 'Lake of Fire' 'The Train' 'Do the Right Thing' 'Still Alice'\n",
            " 'Shaun of the Dead' 'Slums of Beverly Hills' 'Zero Effect' 'Fascination'\n",
            " 'Pat Garrett & Billy the Kid' 'Anne of Green Gables' 'Cargo'\n",
            " 'El orfanato' 'Topaz' 'The Real Cancun' 'Poolhall Junkies' 'Trust'\n",
            " 'Desert Dancer' 'Annie Get Your Gun' 'Midnight Cowboy' 'Human Traffic'\n",
            " 'Trainspotting' 'Whipped' 'Bachelorette' 'Boynton Beach Club'\n",
            " 'Blazing Saddles' 'Sleep Dealer' 'Antibirth' 'Show Boat'\n",
            " \"Alexander's Ragtime Band\" 'Inside Deep Throat' 'Stonewall' 'Bananas'\n",
            " 'Beasts of the Southern Wild' 'Travellers and Magicians' \"Hang 'em High\"\n",
            " 'Sublime' 'My Summer of Love' 'Growing Up Smith' 'Q'\n",
            " 'Faith Like Potatoes' 'Next Stop Wonderland' 'Special' 'Hits' 'Childless'\n",
            " 'Time Changer' 'Half Nelson' 'Hav Plenty' 'The Little Ponderosa Zoo'\n",
            " 'Conversations with Other Women' 'Fabled' 'Intolerance'\n",
            " 'American Ninja 2: The Confrontation' 'The Christmas Bunny'\n",
            " 'Call + Response' \"Sweet Sweetback's Baadasssss Song\" 'Eraserhead'\n",
            " 'The Brothers McMullen' 'The Call of Cthulhu']\n",
            "\n",
            "Movies similar to Avatar (GMM):\n",
            "['Avatar' 'Spectre' 'Men in Black 3' 'The Hobbit: The Desolation of Smaug'\n",
            " 'King Kong' 'Jurassic World' 'Pacific Rim'\n",
            " 'Indiana Jones and the Kingdom of the Crystal Skull' 'The Dark Knight'\n",
            " 'Waterworld' 'Alice Through the Looking Glass'\n",
            " 'Harry Potter and the Order of the Phoenix'\n",
            " 'Harry Potter and the Goblet of Fire' 'Rise of the Guardians'\n",
            " 'Master and Commander: The Far Side of the World' 'Happy Feet Two'\n",
            " 'Harry Potter and the Prisoner of Azkaban' 'Australia' 'The 13th Warrior'\n",
            " 'How the Grinch Stole Christmas' 'Real Steel' 'Stuart Little'\n",
            " 'The Martian' 'Planet of the Apes' \"The Emperor's New Groove\" 'Catwoman'\n",
            " 'Rise of the Planet of the Apes' 'Toy Story 2'\n",
            " 'Alvin and the Chipmunks: The Road Chip' 'A.I. Artificial Intelligence'\n",
            " 'Rio' 'Bicentennial Man' 'The Nutcracker: The Untold Story' 'Twister'\n",
            " 'Alvin and the Chipmunks: Chipwrecked' 'Cold Mountain' 'Yogi Bear'\n",
            " 'Hotel Transylvania 2' 'Mighty Joe Young' 'Children of Men'\n",
            " '50 First Dates' 'The Majestic' 'Runaway Bride' 'S.W.A.T.'\n",
            " 'Star Trek: Insurrection' 'Doom' \"Hart's War\" 'Step Brothers'\n",
            " 'World Trade Center' 'Eyes Wide Shut' 'Annie' 'Proof of Life' 'Everest'\n",
            " 'Maze Runner: The Scorch Trials' 'ParaNorman' 'The Tale of Despereaux'\n",
            " 'Under Siege 2: Dark Territory' 'London Has Fallen' 'The Relic'\n",
            " 'The Soloist' 'The Great Raid' 'Just Like Heaven' 'Death Becomes Her'\n",
            " 'Shanghai Noon' 'Executive Decision' 'Paddington' 'The Hunted'\n",
            " 'Stuck on You' 'Me, Myself & Irene' 'Outbreak' 'Curious George'\n",
            " 'The Peacemaker' 'Mad City' 'Domino' '3:10 to Yuma'\n",
            " \"Happily N'Ever After\" 'Training Day' 'Coach Carter' 'Love Actually'\n",
            " 'The Indian in the Cupboard' 'The Ghost Writer' 'The Fugitive'\n",
            " 'Pinocchio' 'The Mirror Has Two Faces' \"Pourquoi j'ai pas mangé mon père\"\n",
            " 'The Karate Kid' 'A League of Their Own' 'Scary Movie 4'\n",
            " 'The Final Destination' 'The Prestige' 'The Rainmaker'\n",
            " 'Aliens vs Predator: Requiem' 'Final Destination 5' 'Mickey Blue Eyes'\n",
            " 'A Million Ways to Die in the West' 'The Island of Dr. Moreau'\n",
            " 'The Reaping' 'Soul Men' 'Pandorum' 'Sunshine' 'Sweet Home Alabama'\n",
            " 'Texas Rangers' 'Ghosts of Mississippi' 'There Be Dragons' 'Trainwreck'\n",
            " 'Black Knight' 'Nanny McPhee and the Big Bang' 'Cursed' 'Furry Vengeance'\n",
            " 'The Walk' 'Biutiful' 'Nacho Libre' 'A History of Violence'\n",
            " 'The Incredible Burt Wonderstone' 'Arachnophobia' 'Speed'\n",
            " 'The First Wives Club' 'Mystic River' 'Like Mike' 'Antitrust'\n",
            " 'Supercross' 'Zoolander' 'No Reservations' 'Lost Souls'\n",
            " 'The Spy Next Door' 'Lucky Number Slevin' \"Bridget Jones's Diary\"\n",
            " 'There Will Be Blood' 'The House Bunny' 'The Hours' 'War' 'Stop-Loss'\n",
            " 'The Counselor' 'The Empire Strikes Back' 'In the Valley of Elah' '1408'\n",
            " 'RoboCop 3' 'The Transporter Refueled' 'Never Back Down'\n",
            " 'Tinker Tailor Soldier Spy' 'The French Connection' 'Epic Movie'\n",
            " 'Team America: World Police' 'The Stepfather' 'Daybreakers'\n",
            " 'Inherent Vice' 'My All American' 'Bad Teacher' 'Fight Valley'\n",
            " 'Adaptation.' 'The Mask' 'Fame' 'Youth in Revolt'\n",
            " 'The Legend of the Lone Ranger' 'Midnight Special' 'Day of the Dead'\n",
            " 'Pitch Perfect' 'The Master of Disguise' 'Drowning Mona' 'Highlander'\n",
            " 'Home Alone' '卧虎藏龙' 'Big Fat Liar' 'Wag the Dog' 'Love & Basketball'\n",
            " 'Flicka' 'Tuck Everlasting' 'Disturbing Behavior' 'The Big Lebowski'\n",
            " 'A Mighty Heart' 'Buffalo Soldiers' 'Autómata' 'Groundhog Day'\n",
            " 'Stomp the Yard' 'Poetic Justice' 'All About the Benjamins'\n",
            " 'Our Family Wedding' 'Dead Man on Campus' 'Dude, Where’s My Car?'\n",
            " 'The New Guy' 'Being John Malkovich' 'Letters from Iwo Jima'\n",
            " 'I Love You Phillip Morris' 'Oscar and Lucinda' 'The Perfect Game'\n",
            " 'Screwed' 'Celebrity' 'Last Orders' 'Doctor Zhivago' 'My Cousin Vinny'\n",
            " 'Drive Hard' 'Cruel Intentions' 'O' 'Romance & Cigarettes'\n",
            " 'The Last Days on Mars' 'Oliver!' 'Sleepover' 'The Red Violin'\n",
            " 'The Straight Story' 'Crash' 'La femme de chambre du Titanic'\n",
            " 'Coriolanus' 'The Open Road' 'Partition' 'Re-Kill'\n",
            " 'Glee: The Concert Movie' 'Håkon Håkonsen'\n",
            " 'The Boondock Saints II: All Saints Day' 'Restless' 'Shopgirl' 'Juno'\n",
            " 'Flashdance' 'Darkness Falls' 'Live and Let Die' 'The Boondock Saints'\n",
            " 'Tropa de Elite' 'Dressed to Kill' 'The Adventures of Huck Finn'\n",
            " 'The Damned United' '一個好人' 'Little Voice' 'Stiff Upper Lips' 'Le Havre'\n",
            " 'Rang De Basanti' 'Animals' 'The Robe' 'The Beastmaster'\n",
            " 'Running Forever' \"Let's Kill Ward's Wife\" 'Bound'\n",
            " 'Salvando al Soldado Perez' 'Mean Machine' 'The Crying Game'\n",
            " 'The Great Escape' 'What the #$*! Do We (K)now!?' 'Boyhood' 'Scoop'\n",
            " 'Topaz' 'Adore' 'How to Fall in Love' 'Major Dundee' 'Annie Get Your Gun'\n",
            " 'Gods and Monsters' 'Train' 'Whiplash' 'Jagten'\n",
            " 'The Bridge on the River Kwai' 'Whipped' 'Bachelorette'\n",
            " \"Tim and Eric's Billion Dollar Movie\" 'Iguana'\n",
            " 'Friday the 13th Part VII: The New Blood' 'Lage Raho Munna Bhai'\n",
            " 'Blazing Saddles' 'Hud' 'Garden State' '[REC]' 'Amores perros'\n",
            " 'Touching the Void' 'Me and You and Everyone We Know' 'Dabba'\n",
            " 'From Here to Eternity' 'Grace Unplugged' 'Forget Me Not' 'C.H.U.D.'\n",
            " \"Dead Man's Shoes\" 'Rocket Singh: Salesman of the Year'\n",
            " 'Chernobyl Diaries' 'Sands of Iwo Jima' 'Bubba Ho-tep' 'Palo Alto'\n",
            " 'Chocolate: Deep Dark Secrets' 'Creative Control' 'Sparkler'\n",
            " 'A escondidas' 'Truth or Dare' 'On the Waterfront'\n",
            " '4 luni, 3 săptămîni și 2 zile' 'Safety Not Guaranteed' 'The Innkeepers'\n",
            " 'The Sisterhood of Night' 'El Rey de Najayo' 'The Little Ponderosa Zoo'\n",
            " 'Rise of the Entrepreneur: The Search for a Better Way'\n",
            " 'What Happens in Vegas' 'My Beautiful Laundrette' 'My Dog Tulip'\n",
            " 'Midnight Cabaret' 'The Motel' 'The Christmas Bunny' 'Bronson' 'Baghead'\n",
            " 'Sound of My Voice' 'Facing the Giants' 'The Lost Skeleton of Cadavra'\n",
            " 'Cheap Thrills' 'The Call of Cthulhu' 'Dry Spell']\n"
          ]
        }
      ],
      "source": [
        "prev_watch = \"Avatar\"\n",
        "\n",
        "cluster_kmeans = df[df['original_title'] == prev_watch]['cluster_kmeans'].values[0] # find what cluster index Avatar falls into for k-means\n",
        "cluster_gmm = df[df['original_title'] == prev_watch]['cluster_gmm'].values[0]# find what cluster index Avatar falls into for gmm\n",
        "\n",
        "# print out similar movies\n",
        "print(\"Movies similar to Avatar (K-means):\")\n",
        "print(df[df['cluster_kmeans'] == cluster_kmeans]['original_title'].values)\n",
        "\n",
        "print(\"\\nMovies similar to Avatar (GMM):\")\n",
        "print(df[df['cluster_gmm'] == cluster_gmm]['original_title'].values)"
      ]
    },
    {
      "cell_type": "markdown",
      "id": "4ecec1ff",
      "metadata": {
        "id": "4ecec1ff"
      },
      "source": [
        "**Q6.2** Are any of the two recommender systems any good? Would you use them if your real dentist asks for a movie suggestion?"
      ]
    },
    {
      "cell_type": "markdown",
      "id": "aae96b8a",
      "metadata": {
        "id": "aae96b8a"
      },
      "source": [
        "The are not bad, but I personally would prefer shorter lists than the ones provided. Thus due to the amount of movie reccomendations, I would label these systems as \"not optimal\"."
      ]
    },
    {
      "cell_type": "markdown",
      "id": "92b84753",
      "metadata": {
        "id": "92b84753"
      },
      "source": [
        "**Q6.3** How would you try making the recommender systems better?"
      ]
    },
    {
      "cell_type": "markdown",
      "id": "40d3f6dd",
      "metadata": {
        "id": "40d3f6dd"
      },
      "source": [
        "1. Provide fewer reccomendations\n",
        "2. Provide more targeted reccomendations, which can be done through:\n",
        "    - Increasing the amount of filters (duration, year of release, etc.).\n",
        "    - Taking into consideration other movies that the individual liked (cross referencing two movies that the individual likes can allow for better, more targeted reccomendations)."
      ]
    },
    {
      "cell_type": "markdown",
      "id": "7df2d34a",
      "metadata": {
        "id": "7df2d34a"
      },
      "source": [
        "**Q6.4** Say your dentist likes the movies you suggested and has watched a few more since you met him last. How would you incorporate this fact (recommendation based on multiple movies) into your suggestions?"
      ]
    },
    {
      "cell_type": "markdown",
      "id": "b3549de4",
      "metadata": {
        "id": "b3549de4"
      },
      "source": [
        "Taking into consideration other movies that the individual liked, for example, cross referencing two movies that the individual likes can allow for better, more targeted reccomendations. For instance if an individual liked \"Emancipation\" but not \"12 years a slave\", then the model could see what the two movies differed in, and thus see what not to reccomend next time."
      ]
    },
    {
      "cell_type": "markdown",
      "id": "f20b74ce",
      "metadata": {
        "id": "f20b74ce"
      },
      "source": [
        "**Q6.5** An alternative method for recommendations is to use your encoded movie-feature vectors (in this case your overview+PCA vector) in order to find out what movie may be most similar to the current one. In the case of K-Means and GMMs, \"similarity\" referred to Euclidean distance. However, in this exercise, we will use *cosine similarity*, which is another very common similarity measure, and is related to the angle between two vectors. It is defined as:\n",
        "\n",
        "$$sim(v_1, v_2)=\\frac{v_1\\cdot v_2}{||v_1||\\cdot||v_2||}$$\n",
        "\n",
        "Where $v_1$ and $v_2$ are vectors and the operator $||\\cdot||$ is the norm of the vector. The function ranges from $[-1,1]$ (where 1 means that the vectors point in the same direction).\n",
        "\n",
        "Define an appropriate function `cosine_sim`. Add a column called `cos_sim_to_avatar` in the df and print out the head of the df, sorted by the similarity. What movies would you recommend now? Is this better than the clustering methods?"
      ]
    },
    {
      "cell_type": "code",
      "execution_count": 89,
      "id": "cedf60f3",
      "metadata": {
        "id": "cedf60f3",
        "colab": {
          "base_uri": "https://localhost:8080/"
        },
        "outputId": "894d486a-98dd-40bf-dabc-fe2d83268cd9"
      },
      "outputs": [
        {
          "output_type": "stream",
          "name": "stdout",
          "text": [
            "                           original_title  \\\n",
            "0                                  Avatar   \n",
            "1950  La véritable histoire du Chat Botté   \n",
            "3795    The Last Time I Committed Suicide   \n",
            "1953                             Ironclad   \n",
            "1954                             Waterloo   \n",
            "\n",
            "                                               overview  \\\n",
            "0     In the 22nd century, a paraplegic Marine is di...   \n",
            "1950  A free adaptation of Charles Perrault's famous...   \n",
            "3795  Neal Cassady is living the beat life during th...   \n",
            "1953  In the year 1215, the rebel barons of England ...   \n",
            "1954  After defeating France and imprisoning Napoleo...   \n",
            "\n",
            "                                                 genres proc_genres  \\\n",
            "0     [{\"id\": 28, \"name\": \"Action\"}, {\"id\": 12, \"nam...      Action   \n",
            "1950  [{\"id\": 10751, \"name\": \"Family\"}, {\"id\": 12, \"...      Family   \n",
            "3795                      [{\"id\": 18, \"name\": \"Drama\"}]       Drama   \n",
            "1953  [{\"id\": 10749, \"name\": \"Romance\"}, {\"id\": 12, ...     History   \n",
            "1954  [{\"id\": 36, \"name\": \"History\"}, {\"id\": 28, \"na...      Action   \n",
            "\n",
            "                                         one_hot_genres  \\\n",
            "0     [1.0, 0.0, 0.0, 0.0, 0.0, 0.0, 0.0, 0.0, 0.0, ...   \n",
            "1950  [0.0, 0.0, 0.0, 0.0, 0.0, 0.0, 0.0, 1.0, 0.0, ...   \n",
            "3795  [0.0, 0.0, 0.0, 0.0, 0.0, 0.0, 1.0, 0.0, 0.0, ...   \n",
            "1953  [0.0, 0.0, 0.0, 0.0, 0.0, 0.0, 0.0, 0.0, 0.0, ...   \n",
            "1954  [1.0, 0.0, 0.0, 0.0, 0.0, 0.0, 0.0, 0.0, 0.0, ...   \n",
            "\n",
            "                                            pr_overview  overview_len  \\\n",
            "0     in the 22nd century a paraplegic marine is dis...            28   \n",
            "1950  a free adaptation of charles perraults famous ...            29   \n",
            "3795  neal cassady is living the beat life during th...            69   \n",
            "1953  in the year 1215 the rebel barons of england h...           100   \n",
            "1954  after defeating france and imprisoning napoleo...            64   \n",
            "\n",
            "                                       one_hot_overview  overview_pca  \\\n",
            "0     [0.0, 0.0, 0.0, 0.0, 0.0, 0.0, 0.0, 0.0, 0.0, ...     -0.015330   \n",
            "1950  [0.0, 0.0, 0.0, 0.0, 0.0, 0.0, 0.0, 0.0, 0.0, ...     -0.005385   \n",
            "3795  [0.0, 0.0, 1.0, 0.0, 0.0, 0.0, 0.0, 0.0, 0.0, ...     -0.002286   \n",
            "1953  [0.0, 0.0, 2.0, 0.0, 0.0, 0.0, 0.0, 0.0, 0.0, ...     -0.004719   \n",
            "1954  [0.0, 0.0, 0.0, 0.0, 0.0, 0.0, 0.0, 0.0, 0.0, ...     -0.000569   \n",
            "\n",
            "      cluster_kmeans  cluster_gmm  cos_sim_to_avatar  \n",
            "0                 14            3                1.0  \n",
            "1950               3           18                1.0  \n",
            "3795               7           17                1.0  \n",
            "1953               8            1                1.0  \n",
            "1954              12            5                1.0  \n"
          ]
        }
      ],
      "source": [
        "def cosine_sim(v1, v2):\n",
        "    return np.dot(v1, v2) / (np.linalg.norm(v1) * np.linalg.norm(v2))\n",
        "\n",
        "# get overview_pca encoding of previously watched film\n",
        "avatar_index = df[df['original_title'] == 'Avatar'].index[0]\n",
        "prev_watch_enc = df.loc[avatar_index, 'overview_pca']\n",
        "\n",
        "sims = [] # set up place to store similarities\n",
        "for i, row in df.iterrows():\n",
        "    sims.append(cosine_sim(prev_watch_enc, row['overview_pca']))\n",
        "\n",
        "df[\"cos_sim_to_avatar\"] = sims\n",
        "df = df.sort_values(by=\"cos_sim_to_avatar\", ascending=False) # sort df\n",
        "print(df.head()) # print to verify"
      ]
    },
    {
      "cell_type": "markdown",
      "id": "40391e82",
      "metadata": {
        "id": "40391e82"
      },
      "source": [
        "All movies have a cos_sim_to_avatar of 1.0, indicating high similarity. Thus this method is useful for finding movies with similar themes and content.\n",
        "\n",
        "That being said, it is hard to say if it is better than the other models, as that would depend on the specific requirements mentioned in the code."
      ]
    },
    {
      "cell_type": "markdown",
      "id": "a7b1e343",
      "metadata": {
        "id": "a7b1e343"
      },
      "source": [
        "# Q7 Unsupervised Learning as a Tool\n",
        "\n",
        "At the end of this brief forey into natural language processing, we will end with an interesting task: can a machine predict the genre of a movie based purely on the first 10 words of its overview?\n",
        "\n",
        "First, the following cell shuffles the dataset and splits it into a training and test set. The random seed and random state ensure that the train and test samples are the same for you all the time, and *probably* your classmates too. You can verify this by printing out the dataframes and checking it for yourself."
      ]
    },
    {
      "cell_type": "code",
      "execution_count": 90,
      "id": "f5b1bde1",
      "metadata": {
        "id": "f5b1bde1",
        "colab": {
          "base_uri": "https://localhost:8080/"
        },
        "outputId": "36a47a9f-f616-4e73-ffd2-4ae404978c29"
      },
      "outputs": [
        {
          "output_type": "stream",
          "name": "stdout",
          "text": [
            "3765 942\n"
          ]
        }
      ],
      "source": [
        "np.random.seed(0)\n",
        "n_train = int(0.8*len(df))\n",
        "df_shuffle = df.sample(frac=1, random_state=42).reset_index(drop=True)\n",
        "df_train = df_shuffle[:n_train].reset_index(drop=True)\n",
        "df_test = df_shuffle[n_train:].reset_index(drop=True)\n",
        "print(len(df_train), len(df_test))"
      ]
    },
    {
      "cell_type": "markdown",
      "id": "92f9d534",
      "metadata": {
        "id": "92f9d534"
      },
      "source": [
        "## Train, test, evaluate\n",
        "\n",
        "Using a supervised learning method of your choice, try predicting the genre of a movie from the overview. The way you preprocess your data is up to you, and you can take inspiration from the above exercises (e.g. PCA on the one-hot encodings as input, one-hot label encodings as output). There are a number of hyperparameters you can choose depending on your selected method (number of words in your overview, number of dimensions, number of clusters, hyperparameters of your supervised model...), thus, make sure to perform hyperparameter optimization in some way (grid-search, fine-tuning, etc). Once you are happy with how your model is performing, **print out the train_score (accuracy$\\in[0,1]$), test_score (accuracy$\\in[0,1]$), mean training time (in seconds), and mean inference time (in seconds) of your model**.\n",
        "\n",
        "If you are already excited about neural networks, you may also choose to use that as your supervised method. The easiest way to do it is with sklearn's `MLPClassifier` module. The main hyperparameter you would need to tune is the architecture of your model -- how many hidden layers, and how large is each one. For this task, in order to get best performance, you do not necessarily need an MLP (multi-layer perceptron) but feel free to experiment.\n",
        "\n",
        "*Hint: the `train_and_eval` function from the last assignment should be of great help here*"
      ]
    },
    {
      "cell_type": "code",
      "execution_count": 114,
      "id": "e9ac379d",
      "metadata": {
        "id": "e9ac379d",
        "colab": {
          "base_uri": "https://localhost:8080/"
        },
        "outputId": "29534726-1025-48a1-e971-96821c3f5c88"
      },
      "outputs": [
        {
          "output_type": "stream",
          "name": "stdout",
          "text": [
            "Train Accuracy: 0.999667994687915\n",
            "Test Accuracy: 0.24701195219123506\n",
            "\n",
            "RECOMMENDATIONS:\n",
            "Movie: The Kids Are All Right\n",
            "Predicted Genres: Comedy\n",
            "\n",
            "Movie: Ninja Assassin\n",
            "Predicted Genres: Drama\n",
            "\n",
            "Movie: Confidence\n",
            "Predicted Genres: Drama\n",
            "\n"
          ]
        }
      ],
      "source": [
        "from sklearn.feature_extraction.text import TfidfVectorizer\n",
        "from sklearn.ensemble import RandomForestClassifier\n",
        "from sklearn.metrics import accuracy_score\n",
        "from sklearn.model_selection import train_test_split\n",
        "\n",
        "tfidf_vectorizer = TfidfVectorizer(max_features=100)\n",
        "X = tfidf_vectorizer.fit_transform(df_train['overview'])\n",
        "\n",
        "X_train, X_test, y_train, y_test = train_test_split(X, df_train['proc_genres'], test_size=0.2)\n",
        "\n",
        "rf_classifier = RandomForestClassifier(n_estimators=100)\n",
        "rf_classifier.fit(X_train, y_train)\n",
        "\n",
        "train_preds = rf_classifier.predict(X_train)\n",
        "test_preds = rf_classifier.predict(X_test)\n",
        "\n",
        "train_accuracy = accuracy_score(y_train, train_preds)\n",
        "test_accuracy = accuracy_score(y_test, test_preds)\n",
        "X_test_tfidf = tfidf_vectorizer.transform(df_test['overview'])\n",
        "\n",
        "print(\"Train Accuracy:\", train_accuracy)\n",
        "print(\"Test Accuracy:\", test_accuracy)\n",
        "print()\n",
        "\n",
        "print(\"RECOMMENDATIONS:\")\n",
        "for idx in range(3):\n",
        "    print(\"Movie:\", df_test.iloc[idx]['original_title'])\n",
        "    print(\"Predicted Genres:\", test_predictions[idx])\n",
        "    print()"
      ]
    },
    {
      "cell_type": "markdown",
      "id": "5976997e",
      "metadata": {
        "id": "5976997e"
      },
      "source": [
        "Write a paragraph of ~150 words about how you went about selecting and tuning your model, and how you may want to make improvements to your model if you were to continue working on this. Plots are very good but not strictly necessary (i.e. try to add plots if you can)."
      ]
    },
    {
      "cell_type": "markdown",
      "id": "54186a60",
      "metadata": {
        "id": "54186a60"
      },
      "source": [
        "Model building:I first needed to turn the data into a form that could be processed so I used the tfidf_vectorizer. Then I split the data into a training and a testing set, so I can train the model and then run a test. Then after deciding to use Random Forest, due to its ability to proccess multi-dimensional data, I kept on changing the values of the parameters to see which ones gave the highest accuracy.\n",
        "\n",
        "\n",
        "Possible improvements: This model could be improved by having it take more variables into consideration that individuals find very important, but are not mentioned in the data. Such variables include the films location of filming, or portraid time period, as there are many individuals who are big fans of a specific time period (eg. medievel times), and thus are likely to like anything related to that."
      ]
    },
    {
      "cell_type": "markdown",
      "id": "14b50007",
      "metadata": {
        "id": "14b50007"
      },
      "source": [
        "# BONUS\n",
        "\n",
        "If you are happy with your score and wish to see how well it is doing with respect to other people (a sort of mini-competition), fill out the following form with the train_score (accuracy$\\in[0,1]$), test_score (accuracy$\\in[0,1]$), mean training time (in seconds), and mean inference time (in seconds) of your model, as well as what method you use. You can submit as many times before the deadline as you wish. Your final results will be correlated with your submission in order to validate your results (if we cannot validate them, they will be immediately disqualified).\n",
        "\n",
        "[FORM HERE](https://forms.gle/rXRtXScABH5oDLRWA)"
      ]
    }
  ],
  "metadata": {
    "kernelspec": {
      "display_name": "Python 3 (ipykernel)",
      "language": "python",
      "name": "python3"
    },
    "language_info": {
      "codemirror_mode": {
        "name": "ipython",
        "version": 3
      },
      "file_extension": ".py",
      "mimetype": "text/x-python",
      "name": "python",
      "nbconvert_exporter": "python",
      "pygments_lexer": "ipython3",
      "version": "3.10.7"
    },
    "colab": {
      "provenance": [],
      "include_colab_link": true
    }
  },
  "nbformat": 4,
  "nbformat_minor": 5
}